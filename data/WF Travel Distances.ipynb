{
 "cells": [
  {
   "cell_type": "code",
   "execution_count": 416,
   "metadata": {
    "collapsed": true
   },
   "outputs": [],
   "source": [
    "import pandas as pd\n",
    "import geopandas as gpd\n",
    "import numpy as np\n",
    "import matplotlib.pyplot as plt\n",
    "import requests\n",
    "from shapely.geometry import shape\n",
    "from sklearn.mixture import GaussianMixture\n",
    "from scipy.stats import norm\n",
    "\n",
    "% matplotlib inline"
   ]
  },
  {
   "cell_type": "code",
   "execution_count": 344,
   "metadata": {},
   "outputs": [
    {
     "data": {
      "text/html": [
       "<div>\n",
       "<style>\n",
       "    .dataframe thead tr:only-child th {\n",
       "        text-align: right;\n",
       "    }\n",
       "\n",
       "    .dataframe thead th {\n",
       "        text-align: left;\n",
       "    }\n",
       "\n",
       "    .dataframe tbody tr th {\n",
       "        vertical-align: top;\n",
       "    }\n",
       "</style>\n",
       "<table border=\"1\" class=\"dataframe\">\n",
       "  <thead>\n",
       "    <tr style=\"text-align: right;\">\n",
       "      <th></th>\n",
       "      <th>index</th>\n",
       "      <th>pidp</th>\n",
       "      <th>sex</th>\n",
       "      <th>age_6cat</th>\n",
       "      <th>eth_5cat</th>\n",
       "      <th>employ</th>\n",
       "      <th>worktrav</th>\n",
       "      <th>caruse</th>\n",
       "      <th>cycleuse</th>\n",
       "      <th>f_workdis</th>\n",
       "      <th>ward</th>\n",
       "    </tr>\n",
       "  </thead>\n",
       "  <tbody>\n",
       "    <tr>\n",
       "      <th>0</th>\n",
       "      <td>0</td>\n",
       "      <td>22445</td>\n",
       "      <td>f</td>\n",
       "      <td>25-34</td>\n",
       "      <td>White</td>\n",
       "      <td>Employed</td>\n",
       "      <td>Public</td>\n",
       "      <td>Car</td>\n",
       "      <td>Bike</td>\n",
       "      <td>5</td>\n",
       "      <td>E05000590</td>\n",
       "    </tr>\n",
       "    <tr>\n",
       "      <th>1</th>\n",
       "      <td>0</td>\n",
       "      <td>22445</td>\n",
       "      <td>f</td>\n",
       "      <td>25-34</td>\n",
       "      <td>White</td>\n",
       "      <td>Employed</td>\n",
       "      <td>Public</td>\n",
       "      <td>Car</td>\n",
       "      <td>Bike</td>\n",
       "      <td>5</td>\n",
       "      <td>E05000590</td>\n",
       "    </tr>\n",
       "    <tr>\n",
       "      <th>2</th>\n",
       "      <td>0</td>\n",
       "      <td>22445</td>\n",
       "      <td>f</td>\n",
       "      <td>25-34</td>\n",
       "      <td>White</td>\n",
       "      <td>Employed</td>\n",
       "      <td>Public</td>\n",
       "      <td>Car</td>\n",
       "      <td>Bike</td>\n",
       "      <td>5</td>\n",
       "      <td>E05000590</td>\n",
       "    </tr>\n",
       "    <tr>\n",
       "      <th>3</th>\n",
       "      <td>1</td>\n",
       "      <td>29925</td>\n",
       "      <td>f</td>\n",
       "      <td>35-44</td>\n",
       "      <td>White</td>\n",
       "      <td>SelfEmployed</td>\n",
       "      <td>Car</td>\n",
       "      <td>Car</td>\n",
       "      <td>NoBike</td>\n",
       "      <td>3</td>\n",
       "      <td>E05000590</td>\n",
       "    </tr>\n",
       "    <tr>\n",
       "      <th>4</th>\n",
       "      <td>1</td>\n",
       "      <td>29925</td>\n",
       "      <td>f</td>\n",
       "      <td>35-44</td>\n",
       "      <td>White</td>\n",
       "      <td>SelfEmployed</td>\n",
       "      <td>Car</td>\n",
       "      <td>Car</td>\n",
       "      <td>NoBike</td>\n",
       "      <td>3</td>\n",
       "      <td>E05000590</td>\n",
       "    </tr>\n",
       "  </tbody>\n",
       "</table>\n",
       "</div>"
      ],
      "text/plain": [
       "   index   pidp sex age_6cat eth_5cat        employ worktrav caruse cycleuse  \\\n",
       "0      0  22445   f    25-34    White      Employed   Public    Car     Bike   \n",
       "1      0  22445   f    25-34    White      Employed   Public    Car     Bike   \n",
       "2      0  22445   f    25-34    White      Employed   Public    Car     Bike   \n",
       "3      1  29925   f    35-44    White  SelfEmployed      Car    Car   NoBike   \n",
       "4      1  29925   f    35-44    White  SelfEmployed      Car    Car   NoBike   \n",
       "\n",
       "   f_workdis       ward  \n",
       "0          5  E05000590  \n",
       "1          5  E05000590  \n",
       "2          5  E05000590  \n",
       "3          3  E05000590  \n",
       "4          3  E05000590  "
      ]
     },
     "execution_count": 344,
     "metadata": {},
     "output_type": "execute_result"
    }
   ],
   "source": [
    "# Load the synthetic WF data as a pandas dataframe\n",
    "wf_indivs = pd.read_csv('../Data/Synthetic_WF.csv',index_col=0)\n",
    "wf_indivs.head()"
   ]
  },
  {
   "cell_type": "code",
   "execution_count": 345,
   "metadata": {
    "collapsed": true
   },
   "outputs": [],
   "source": [
    "# Let's look at the work distance variable. Remember, the question for this is:\n",
    "# About how far, in miles, do you live from your usual place of work?"
   ]
  },
  {
   "cell_type": "code",
   "execution_count": 346,
   "metadata": {
    "collapsed": true
   },
   "outputs": [],
   "source": [
    "# code missing to single variable. -7 = proxy, -8 = inapplicable, -2 = refusal, -1 = don't know, -10 = not in ethnic boost\n",
    "wf_indivs['work_dis_class'] = wf_indivs['f_workdis'].apply(lambda x: np.nan if np.sign(x) == -1 else 1.0)"
   ]
  },
  {
   "cell_type": "code",
   "execution_count": 353,
   "metadata": {
    "collapsed": true
   },
   "outputs": [],
   "source": [
    "# Clean the workdis variable\n",
    "\n",
    "# Code the inapplicable f_workdis to 'inapplicable'\n",
    "wf_indivs['workdis'] = wf_indivs['f_workdis'].apply(lambda x: 'inapplicable' if x == -8 else x)\n",
    "# Code the worktrav 'inapplicable's to workdis inapplicables\n",
    "wf_indivs.loc[wf_indivs['worktrav'] == 'inapplicable','workdis'] = 'inapplicable'\n",
    "# code 'workdis' = -7 to 'home'\n",
    "wf_indivs.loc[wf_indivs['workdis']==-7,'workdis'] = 'home'\n",
    "# code 'workdis' inapplicable and worktrav home to home\n",
    "wf_indivs.loc[(wf_indivs['workdis']=='inapplicable')&(wf_indivs['worktrav']=='Home'),'workdis'] = 'home'\n",
    "# code 'workdis' -10 and worktrav home to home\n",
    "wf_indivs.loc[(wf_indivs['workdis']==-10)&(wf_indivs['worktrav']=='Home'),'workdis'] = 'home'\n",
    "\n",
    "# The rest of the data is missing, and hard to clean, so we'll code it to missing.\n",
    "wf_indivs['workdis'] = wf_indivs['workdis'].apply(lambda x: 'missing' if str(x)[0] == '-' else x)"
   ]
  },
  {
   "cell_type": "code",
   "execution_count": 354,
   "metadata": {},
   "outputs": [
    {
     "data": {
      "text/html": [
       "<div>\n",
       "<style>\n",
       "    .dataframe thead tr:only-child th {\n",
       "        text-align: right;\n",
       "    }\n",
       "\n",
       "    .dataframe thead th {\n",
       "        text-align: left;\n",
       "    }\n",
       "\n",
       "    .dataframe tbody tr th {\n",
       "        vertical-align: top;\n",
       "    }\n",
       "</style>\n",
       "<table border=\"1\" class=\"dataframe\">\n",
       "  <thead>\n",
       "    <tr style=\"text-align: right;\">\n",
       "      <th>worktrav</th>\n",
       "      <th>Car</th>\n",
       "      <th>Cycle</th>\n",
       "      <th>Home</th>\n",
       "      <th>Public</th>\n",
       "      <th>Walk</th>\n",
       "      <th>inapplicable</th>\n",
       "    </tr>\n",
       "    <tr>\n",
       "      <th>workdis</th>\n",
       "      <th></th>\n",
       "      <th></th>\n",
       "      <th></th>\n",
       "      <th></th>\n",
       "      <th></th>\n",
       "      <th></th>\n",
       "    </tr>\n",
       "  </thead>\n",
       "  <tbody>\n",
       "    <tr>\n",
       "      <th>home</th>\n",
       "      <td>0</td>\n",
       "      <td>0</td>\n",
       "      <td>9220</td>\n",
       "      <td>0</td>\n",
       "      <td>0</td>\n",
       "      <td>0</td>\n",
       "    </tr>\n",
       "    <tr>\n",
       "      <th>inapplicable</th>\n",
       "      <td>0</td>\n",
       "      <td>0</td>\n",
       "      <td>0</td>\n",
       "      <td>0</td>\n",
       "      <td>0</td>\n",
       "      <td>70592</td>\n",
       "    </tr>\n",
       "    <tr>\n",
       "      <th>journey</th>\n",
       "      <td>23962</td>\n",
       "      <td>2277</td>\n",
       "      <td>0</td>\n",
       "      <td>36649</td>\n",
       "      <td>4880</td>\n",
       "      <td>0</td>\n",
       "    </tr>\n",
       "    <tr>\n",
       "      <th>missing</th>\n",
       "      <td>12416</td>\n",
       "      <td>962</td>\n",
       "      <td>0</td>\n",
       "      <td>27440</td>\n",
       "      <td>2580</td>\n",
       "      <td>0</td>\n",
       "    </tr>\n",
       "  </tbody>\n",
       "</table>\n",
       "</div>"
      ],
      "text/plain": [
       "worktrav        Car  Cycle  Home  Public  Walk  inapplicable\n",
       "workdis                                                     \n",
       "home              0      0  9220       0     0             0\n",
       "inapplicable      0      0     0       0     0         70592\n",
       "journey       23962   2277     0   36649  4880             0\n",
       "missing       12416    962     0   27440  2580             0"
      ]
     },
     "execution_count": 354,
     "metadata": {},
     "output_type": "execute_result"
    }
   ],
   "source": [
    "pd.crosstab(wf_indivs['workdis'].replace(to_replace=bins, value = 'journey'),wf_indivs['worktrav'])"
   ]
  },
  {
   "cell_type": "code",
   "execution_count": 355,
   "metadata": {},
   "outputs": [
    {
     "data": {
      "text/html": [
       "<div>\n",
       "<style>\n",
       "    .dataframe thead tr:only-child th {\n",
       "        text-align: right;\n",
       "    }\n",
       "\n",
       "    .dataframe thead th {\n",
       "        text-align: left;\n",
       "    }\n",
       "\n",
       "    .dataframe tbody tr th {\n",
       "        vertical-align: top;\n",
       "    }\n",
       "</style>\n",
       "<table border=\"1\" class=\"dataframe\">\n",
       "  <thead>\n",
       "    <tr style=\"text-align: right;\">\n",
       "      <th></th>\n",
       "      <th>count</th>\n",
       "      <th>proportion</th>\n",
       "    </tr>\n",
       "  </thead>\n",
       "  <tbody>\n",
       "    <tr>\n",
       "      <th>inapplicable</th>\n",
       "      <td>70592</td>\n",
       "      <td>0.369634</td>\n",
       "    </tr>\n",
       "    <tr>\n",
       "      <th>journey</th>\n",
       "      <td>67768</td>\n",
       "      <td>0.354847</td>\n",
       "    </tr>\n",
       "    <tr>\n",
       "      <th>missing</th>\n",
       "      <td>43398</td>\n",
       "      <td>0.227241</td>\n",
       "    </tr>\n",
       "    <tr>\n",
       "      <th>home</th>\n",
       "      <td>9220</td>\n",
       "      <td>0.048278</td>\n",
       "    </tr>\n",
       "  </tbody>\n",
       "</table>\n",
       "</div>"
      ],
      "text/plain": [
       "              count  proportion\n",
       "inapplicable  70592    0.369634\n",
       "journey       67768    0.354847\n",
       "missing       43398    0.227241\n",
       "home           9220    0.048278"
      ]
     },
     "execution_count": 355,
     "metadata": {},
     "output_type": "execute_result"
    }
   ],
   "source": [
    "wf_indivs['workdis'].replace(to_replace=bins, value = 'journey').value_counts().to_frame(name='count').merge(\n",
    "wf_indivs['workdis'].replace(to_replace=bins, value = 'journey').value_counts(normalize = True).to_frame(name='proportion'), left_index =True, right_index = True)\n",
    "# We have data for 1/3 of the journeys"
   ]
  },
  {
   "cell_type": "code",
   "execution_count": 356,
   "metadata": {
    "collapsed": true
   },
   "outputs": [],
   "source": [
    "# Let's have a look at the distribution of workdis, for those we know.\n",
    "dists = wf_indivs.loc[wf_indivs['workdis'].map(np.isreal),'workdis']\n",
    "dists = pd.to_numeric(dists)"
   ]
  },
  {
   "cell_type": "code",
   "execution_count": 357,
   "metadata": {},
   "outputs": [
    {
     "data": {
      "text/plain": [
       "Text(0,0.5,'Frequency')"
      ]
     },
     "execution_count": 357,
     "metadata": {},
     "output_type": "execute_result"
    },
    {
     "data": {
      "image/png": "[encoded data removed]",
      "text/plain": [
       "<Figure size 1152x432 with 1 Axes>"
      ]
     },
     "metadata": {},
     "output_type": "display_data"
    }
   ],
   "source": [
    "f, ax = plt.subplots(figsize = (16,6))\n",
    "\n",
    "bins = np.array(sorted(dists.unique()))\n",
    "ax.hist(dists,bins)\n",
    "ax.set_xlabel('Distance from Work (Miles)',fontsize=14)\n",
    "ax.set_ylabel('Frequency',fontsize=14)\n",
    "\n",
    "# This doesn't look like the Census Flow data we have already seen."
   ]
  },
  {
   "cell_type": "code",
   "execution_count": 360,
   "metadata": {},
   "outputs": [
    {
     "data": {
      "text/plain": [
       "1.274263342262518"
      ]
     },
     "execution_count": 360,
     "metadata": {},
     "output_type": "execute_result"
    },
    {
     "data": {
      "image/png": "[encoded data removed]",
      "text/plain": [
       "<Figure size 1152x432 with 1 Axes>"
      ]
     },
     "metadata": {},
     "output_type": "display_data"
    }
   ],
   "source": [
    "# Let's look at the breakdown of distances travelled by travel mode.\n",
    "walkdists = wf_indivs.loc[(wf_indivs['workdis'].map(np.isreal))&(wf_indivs['worktrav'] == 'Walk'),'workdis']\n",
    "walkdists = pd.to_numeric(walkdists)\n",
    "\n",
    "f, ax = plt.subplots(figsize = (16,6))\n",
    "\n",
    "# 'hilariously' someone claims to walk 200 miles to work. So ignore that.\n",
    "bins = np.array(sorted(walkdists.unique()))[:-1]\n",
    "ax.hist(walkdists,bins,density=True)\n",
    "ax.set_xlabel('Distance from Work (Miles)',fontsize=14)\n",
    "ax.set_ylabel('Proportion of Journeys',fontsize=14)\n",
    "\n",
    "walkdists[walkdists < 200].mean() # mean distance is 1.27 miles, c. 2km (excluding 200 mile journeys)"
   ]
  },
  {
   "cell_type": "code",
   "execution_count": 361,
   "metadata": {},
   "outputs": [
    {
     "data": {
      "text/plain": [
       "4.587176108915239"
      ]
     },
     "execution_count": 361,
     "metadata": {},
     "output_type": "execute_result"
    },
    {
     "data": {
      "image/png": "[encoded data removed]",
      "text/plain": [
       "<Figure size 1152x432 with 1 Axes>"
      ]
     },
     "metadata": {},
     "output_type": "display_data"
    }
   ],
   "source": [
    "# Let's look at the breakdown of distances travelled by travel mode.\n",
    "cycledists = wf_indivs.loc[(wf_indivs['workdis'].map(np.isreal))&(wf_indivs['worktrav'] == 'Cycle'),'workdis']\n",
    "cycledists = pd.to_numeric(cycledists)\n",
    "\n",
    "f, ax = plt.subplots(figsize = (16,6))\n",
    "\n",
    "bins = np.arange(0,18,1)\n",
    "ax.hist(cycledists,bins,density=True)\n",
    "ax.set_xlabel('Distance from Work (Miles)',fontsize=14)\n",
    "ax.set_ylabel('Proportion of Journeys',fontsize=14)\n",
    "\n",
    "cycledists.mean() # mean cycle dist is 4.59 miles, c. 7.4 km"
   ]
  },
  {
   "cell_type": "code",
   "execution_count": 362,
   "metadata": {},
   "outputs": [
    {
     "data": {
      "text/plain": [
       "9.388141559114846"
      ]
     },
     "execution_count": 362,
     "metadata": {},
     "output_type": "execute_result"
    },
    {
     "data": {
      "image/png": "[encoded data removed]",
      "text/plain": [
       "<Figure size 1152x432 with 1 Axes>"
      ]
     },
     "metadata": {},
     "output_type": "display_data"
    }
   ],
   "source": [
    "# Let's look at the breakdown of distances travelled by public transport.\n",
    "publicdists = wf_indivs.loc[(wf_indivs['workdis'].map(np.isreal))&(wf_indivs['worktrav'] == 'Public'),'workdis']\n",
    "publicdists = pd.to_numeric(publicdists)\n",
    "\n",
    "f, ax = plt.subplots(figsize = (16,6))\n",
    "\n",
    "bins = np.array(sorted(publicdists.unique()))\n",
    "ax.hist(publicdists,bins,density=True)\n",
    "ax.set_xlabel('Distance from Work (Miles)',fontsize=14)\n",
    "ax.set_ylabel('Proportion of Journeys',fontsize=14)\n",
    "\n",
    "publicdists.mean() # mean travel dist on public transport is 9.39 miles, c. 15 km"
   ]
  },
  {
   "cell_type": "code",
   "execution_count": 363,
   "metadata": {},
   "outputs": [
    {
     "data": {
      "text/plain": [
       "8.973207578666221"
      ]
     },
     "execution_count": 363,
     "metadata": {},
     "output_type": "execute_result"
    },
    {
     "data": {
      "image/png": "[encoded data removed]",
      "text/plain": [
       "<Figure size 1152x432 with 1 Axes>"
      ]
     },
     "metadata": {},
     "output_type": "display_data"
    }
   ],
   "source": [
    "# Let's look at the breakdown of distances travelled by travel mode.\n",
    "cardists = wf_indivs.loc[(wf_indivs['workdis'].map(np.isreal))&(wf_indivs['worktrav'] == 'Car'),'workdis']\n",
    "cardists = pd.to_numeric(cardists)\n",
    "\n",
    "f, ax = plt.subplots(figsize = (16,6))\n",
    "\n",
    "bins = np.array(sorted(cardists.unique()))\n",
    "ax.hist(cardists,bins,density=True)\n",
    "ax.set_xlabel('Distance from Work (Miles)',fontsize=14)\n",
    "ax.set_ylabel('Proportion of Journeys',fontsize=14)\n",
    "\n",
    "cardists.mean() # mean car dist is 8.97 miles, c. 14.4 km"
   ]
  },
  {
   "cell_type": "code",
   "execution_count": 14,
   "metadata": {
    "collapsed": true
   },
   "outputs": [],
   "source": [
    "# The data from understanding society tend to peak around values like 5, 10, 15, 20\n",
    "# They are likely not that accurate, but may be useful for sorting the data."
   ]
  },
  {
   "cell_type": "code",
   "execution_count": 39,
   "metadata": {},
   "outputs": [
    {
     "name": "stderr",
     "output_type": "stream",
     "text": [
      "C:\\Users\\ppehdlew\\AppData\\Local\\Continuum\\Anaconda2\\lib\\site-packages\\ipykernel_launcher.py:4: ParserWarning: Falling back to the 'python' engine because the 'c' engine does not support skipfooter; you can avoid this warning by specifying engine='python'.\n",
      "  after removing the cwd from sys.path.\n"
     ]
    }
   ],
   "source": [
    "# Let's instead look at some census flow data.\n",
    "# This first table is of MSOA to MSOA flows by mode of travel to work.\n",
    "# NB there is a comment at the bottom of the file, so we remove the bottom 3 rows.\n",
    "flows_mode = pd.read_csv('../Data/MSOA_Flows_Modes.csv', skipfooter=4)"
   ]
  },
  {
   "cell_type": "code",
   "execution_count": 53,
   "metadata": {},
   "outputs": [],
   "source": [
    "# The Origin and Destination fields are insane, so we need to convert them into something we can use.\n",
    "# Truncating the origin so that it matches the 'name' field in the geospatial data should allow for standardisation.\n",
    "flows_mode['orig_msoa11nm'] = flows_mode['Origins'].apply(lambda x: x.split(': ')[1])\n",
    "flows_mode['dest_msoa11nm'] = flows_mode['Destinations'].apply(lambda x: x.split(': ')[1])"
   ]
  },
  {
   "cell_type": "code",
   "execution_count": 30,
   "metadata": {},
   "outputs": [
    {
     "data": {
      "text/html": [
       "<div>\n",
       "<style>\n",
       "    .dataframe thead tr:only-child th {\n",
       "        text-align: right;\n",
       "    }\n",
       "\n",
       "    .dataframe thead th {\n",
       "        text-align: left;\n",
       "    }\n",
       "\n",
       "    .dataframe tbody tr th {\n",
       "        vertical-align: top;\n",
       "    }\n",
       "</style>\n",
       "<table border=\"1\" class=\"dataframe\">\n",
       "  <thead>\n",
       "    <tr style=\"text-align: right;\">\n",
       "      <th></th>\n",
       "      <th>msoa11cd</th>\n",
       "      <th>msoa11nm</th>\n",
       "      <th>msoa11nmw</th>\n",
       "      <th>objectid</th>\n",
       "      <th>st_areashape</th>\n",
       "      <th>st_lengthshape</th>\n",
       "      <th>geometry</th>\n",
       "    </tr>\n",
       "  </thead>\n",
       "  <tbody>\n",
       "    <tr>\n",
       "      <th>0</th>\n",
       "      <td>E02000001</td>\n",
       "      <td>City of London 001</td>\n",
       "      <td>City of London 001</td>\n",
       "      <td>1</td>\n",
       "      <td>2.897837e+06</td>\n",
       "      <td>9297.741827</td>\n",
       "      <td>POLYGON ((532155.5105428078 182165.4037105864,...</td>\n",
       "    </tr>\n",
       "    <tr>\n",
       "      <th>1</th>\n",
       "      <td>E02000002</td>\n",
       "      <td>Barking and Dagenham 001</td>\n",
       "      <td>Barking and Dagenham 001</td>\n",
       "      <td>2</td>\n",
       "      <td>2.161565e+06</td>\n",
       "      <td>8307.071886</td>\n",
       "      <td>POLYGON ((548879.5614259791 191097.5816356249,...</td>\n",
       "    </tr>\n",
       "    <tr>\n",
       "      <th>2</th>\n",
       "      <td>E02000003</td>\n",
       "      <td>Barking and Dagenham 002</td>\n",
       "      <td>Barking and Dagenham 002</td>\n",
       "      <td>3</td>\n",
       "      <td>2.141516e+06</td>\n",
       "      <td>9359.991638</td>\n",
       "      <td>POLYGON ((548960.4116485086 189072.4196781875,...</td>\n",
       "    </tr>\n",
       "    <tr>\n",
       "      <th>3</th>\n",
       "      <td>E02000004</td>\n",
       "      <td>Barking and Dagenham 003</td>\n",
       "      <td>Barking and Dagenham 003</td>\n",
       "      <td>4</td>\n",
       "      <td>2.492948e+06</td>\n",
       "      <td>8476.616902</td>\n",
       "      <td>POLYGON ((551551.8947572846 187364.9089934734,...</td>\n",
       "    </tr>\n",
       "    <tr>\n",
       "      <th>4</th>\n",
       "      <td>E02000005</td>\n",
       "      <td>Barking and Dagenham 004</td>\n",
       "      <td>Barking and Dagenham 004</td>\n",
       "      <td>5</td>\n",
       "      <td>1.187953e+06</td>\n",
       "      <td>7322.466319</td>\n",
       "      <td>POLYGON ((549238.9222601792 187628.1722011371,...</td>\n",
       "    </tr>\n",
       "  </tbody>\n",
       "</table>\n",
       "</div>"
      ],
      "text/plain": [
       "    msoa11cd                  msoa11nm                 msoa11nmw  objectid  \\\n",
       "0  E02000001        City of London 001        City of London 001         1   \n",
       "1  E02000002  Barking and Dagenham 001  Barking and Dagenham 001         2   \n",
       "2  E02000003  Barking and Dagenham 002  Barking and Dagenham 002         3   \n",
       "3  E02000004  Barking and Dagenham 003  Barking and Dagenham 003         4   \n",
       "4  E02000005  Barking and Dagenham 004  Barking and Dagenham 004         5   \n",
       "\n",
       "   st_areashape  st_lengthshape  \\\n",
       "0  2.897837e+06     9297.741827   \n",
       "1  2.161565e+06     8307.071886   \n",
       "2  2.141516e+06     9359.991638   \n",
       "3  2.492948e+06     8476.616902   \n",
       "4  1.187953e+06     7322.466319   \n",
       "\n",
       "                                            geometry  \n",
       "0  POLYGON ((532155.5105428078 182165.4037105864,...  \n",
       "1  POLYGON ((548879.5614259791 191097.5816356249,...  \n",
       "2  POLYGON ((548960.4116485086 189072.4196781875,...  \n",
       "3  POLYGON ((551551.8947572846 187364.9089934734,...  \n",
       "4  POLYGON ((549238.9222601792 187628.1722011371,...  "
      ]
     },
     "execution_count": 30,
     "metadata": {},
     "output_type": "execute_result"
    }
   ],
   "source": [
    "url = 'https://opendata.arcgis.com/datasets/826dc85fb600440889480f4d9dbb1a24_0.geojson'\n",
    "msoa_json = requests.get(url).json()['features']\n",
    "geom = [shape(d['geometry']) for d in msoa_json]\n",
    "attr = [d['properties'] for d in msoa_json]\n",
    "msoas = gpd.GeoDataFrame(attr, geometry = geom, crs = {'init':'epsg:4326'})\n",
    "msoas = msoas.to_crs({'init':'epsg:27700'})\n",
    "msoas.head()"
   ]
  },
  {
   "cell_type": "code",
   "execution_count": 67,
   "metadata": {},
   "outputs": [
    {
     "data": {
      "text/html": [
       "<div>\n",
       "<style>\n",
       "    .dataframe thead tr:only-child th {\n",
       "        text-align: right;\n",
       "    }\n",
       "\n",
       "    .dataframe thead th {\n",
       "        text-align: left;\n",
       "    }\n",
       "\n",
       "    .dataframe tbody tr th {\n",
       "        vertical-align: top;\n",
       "    }\n",
       "</style>\n",
       "<table border=\"1\" class=\"dataframe\">\n",
       "  <thead>\n",
       "    <tr style=\"text-align: right;\">\n",
       "      <th></th>\n",
       "      <th>Interaction data:2011 SWS MSOA/SOA/Intermediate Zone [Location of usual residence and place of work by method of travel to work] - WU03UK - Safeguarded:[Table WU03UK; Cell 1] Method of travel to work All categories: Method of travel to work;</th>\n",
       "      <th>Interaction data:2011 SWS MSOA/SOA/Intermediate Zone [Location of usual residence and place of work by method of travel to work] - WU03UK - Safeguarded:[Table WU03UK; Cell 2] Method of travel to work Work mainly at or from home;</th>\n",
       "      <th>Interaction data:2011 SWS MSOA/SOA/Intermediate Zone [Location of usual residence and place of work by method of travel to work] - WU03UK - Safeguarded:[Table WU03UK; Cell 3] Method of travel to work Underground, metro, light rail, tram;</th>\n",
       "      <th>Interaction data:2011 SWS MSOA/SOA/Intermediate Zone [Location of usual residence and place of work by method of travel to work] - WU03UK - Safeguarded:[Table WU03UK; Cell 4] Method of travel to work Train;</th>\n",
       "      <th>Interaction data:2011 SWS MSOA/SOA/Intermediate Zone [Location of usual residence and place of work by method of travel to work] - WU03UK - Safeguarded:[Table WU03UK; Cell 5] Method of travel to work Bus, minibus or coach;</th>\n",
       "      <th>Interaction data:2011 SWS MSOA/SOA/Intermediate Zone [Location of usual residence and place of work by method of travel to work] - WU03UK - Safeguarded:[Table WU03UK; Cell 6] Method of travel to work Taxi;</th>\n",
       "      <th>Interaction data:2011 SWS MSOA/SOA/Intermediate Zone [Location of usual residence and place of work by method of travel to work] - WU03UK - Safeguarded:[Table WU03UK; Cell 7] Method of travel to work Motorcycle, scooter or moped;</th>\n",
       "      <th>Interaction data:2011 SWS MSOA/SOA/Intermediate Zone [Location of usual residence and place of work by method of travel to work] - WU03UK - Safeguarded:[Table WU03UK; Cell 8] Method of travel to work Driving a car or van;</th>\n",
       "      <th>Interaction data:2011 SWS MSOA/SOA/Intermediate Zone [Location of usual residence and place of work by method of travel to work] - WU03UK - Safeguarded:[Table WU03UK; Cell 9] Method of travel to work Passenger in a car or van;</th>\n",
       "      <th>Interaction data:2011 SWS MSOA/SOA/Intermediate Zone [Location of usual residence and place of work by method of travel to work] - WU03UK - Safeguarded:[Table WU03UK; Cell 10] Method of travel to work Bicycle;</th>\n",
       "      <th>Interaction data:2011 SWS MSOA/SOA/Intermediate Zone [Location of usual residence and place of work by method of travel to work] - WU03UK - Safeguarded:[Table WU03UK; Cell 11] Method of travel to work On foot;</th>\n",
       "      <th>Interaction data:2011 SWS MSOA/SOA/Intermediate Zone [Location of usual residence and place of work by method of travel to work] - WU03UK - Safeguarded:[Table WU03UK; Cell 12] Method of travel to work Other method of transport to work;</th>\n",
       "      <th>orig_msoa11nm</th>\n",
       "      <th>dest_msoa11nm</th>\n",
       "      <th>orig_msoa11cd</th>\n",
       "      <th>dest_msoa11cd</th>\n",
       "    </tr>\n",
       "  </thead>\n",
       "  <tbody>\n",
       "    <tr>\n",
       "      <th>0</th>\n",
       "      <td>136</td>\n",
       "      <td>0</td>\n",
       "      <td>7</td>\n",
       "      <td>111</td>\n",
       "      <td>1</td>\n",
       "      <td>0</td>\n",
       "      <td>1</td>\n",
       "      <td>14</td>\n",
       "      <td>0</td>\n",
       "      <td>2</td>\n",
       "      <td>0</td>\n",
       "      <td>0</td>\n",
       "      <td>Waltham Forest 001</td>\n",
       "      <td>City of London 001</td>\n",
       "      <td>E02000895</td>\n",
       "      <td>E02000001</td>\n",
       "    </tr>\n",
       "    <tr>\n",
       "      <th>1</th>\n",
       "      <td>383</td>\n",
       "      <td>0</td>\n",
       "      <td>37</td>\n",
       "      <td>324</td>\n",
       "      <td>3</td>\n",
       "      <td>0</td>\n",
       "      <td>2</td>\n",
       "      <td>8</td>\n",
       "      <td>0</td>\n",
       "      <td>8</td>\n",
       "      <td>1</td>\n",
       "      <td>0</td>\n",
       "      <td>Waltham Forest 002</td>\n",
       "      <td>City of London 001</td>\n",
       "      <td>E02000896</td>\n",
       "      <td>E02000001</td>\n",
       "    </tr>\n",
       "    <tr>\n",
       "      <th>2</th>\n",
       "      <td>178</td>\n",
       "      <td>0</td>\n",
       "      <td>52</td>\n",
       "      <td>112</td>\n",
       "      <td>3</td>\n",
       "      <td>0</td>\n",
       "      <td>0</td>\n",
       "      <td>7</td>\n",
       "      <td>1</td>\n",
       "      <td>3</td>\n",
       "      <td>0</td>\n",
       "      <td>0</td>\n",
       "      <td>Waltham Forest 003</td>\n",
       "      <td>City of London 001</td>\n",
       "      <td>E02000897</td>\n",
       "      <td>E02000001</td>\n",
       "    </tr>\n",
       "    <tr>\n",
       "      <th>3</th>\n",
       "      <td>191</td>\n",
       "      <td>0</td>\n",
       "      <td>24</td>\n",
       "      <td>150</td>\n",
       "      <td>4</td>\n",
       "      <td>0</td>\n",
       "      <td>1</td>\n",
       "      <td>11</td>\n",
       "      <td>0</td>\n",
       "      <td>1</td>\n",
       "      <td>0</td>\n",
       "      <td>0</td>\n",
       "      <td>Waltham Forest 004</td>\n",
       "      <td>City of London 001</td>\n",
       "      <td>E02000898</td>\n",
       "      <td>E02000001</td>\n",
       "    </tr>\n",
       "    <tr>\n",
       "      <th>4</th>\n",
       "      <td>162</td>\n",
       "      <td>0</td>\n",
       "      <td>32</td>\n",
       "      <td>106</td>\n",
       "      <td>4</td>\n",
       "      <td>1</td>\n",
       "      <td>0</td>\n",
       "      <td>12</td>\n",
       "      <td>1</td>\n",
       "      <td>4</td>\n",
       "      <td>1</td>\n",
       "      <td>1</td>\n",
       "      <td>Waltham Forest 005</td>\n",
       "      <td>City of London 001</td>\n",
       "      <td>E02000899</td>\n",
       "      <td>E02000001</td>\n",
       "    </tr>\n",
       "  </tbody>\n",
       "</table>\n",
       "</div>"
      ],
      "text/plain": [
       "   Interaction data:2011 SWS MSOA/SOA/Intermediate Zone [Location of usual residence and place of work by method of travel to work] - WU03UK - Safeguarded:[Table WU03UK; Cell 1] Method of travel to work All categories: Method of travel to work;  \\\n",
       "0                                                136                                                                                                                                                                                                   \n",
       "1                                                383                                                                                                                                                                                                   \n",
       "2                                                178                                                                                                                                                                                                   \n",
       "3                                                191                                                                                                                                                                                                   \n",
       "4                                                162                                                                                                                                                                                                   \n",
       "\n",
       "   Interaction data:2011 SWS MSOA/SOA/Intermediate Zone [Location of usual residence and place of work by method of travel to work] - WU03UK - Safeguarded:[Table WU03UK; Cell 2] Method of travel to work Work mainly at or from home;  \\\n",
       "0                                                  0                                                                                                                                                                                      \n",
       "1                                                  0                                                                                                                                                                                      \n",
       "2                                                  0                                                                                                                                                                                      \n",
       "3                                                  0                                                                                                                                                                                      \n",
       "4                                                  0                                                                                                                                                                                      \n",
       "\n",
       "   Interaction data:2011 SWS MSOA/SOA/Intermediate Zone [Location of usual residence and place of work by method of travel to work] - WU03UK - Safeguarded:[Table WU03UK; Cell 3] Method of travel to work Underground, metro, light rail, tram;  \\\n",
       "0                                                  7                                                                                                                                                                                               \n",
       "1                                                 37                                                                                                                                                                                               \n",
       "2                                                 52                                                                                                                                                                                               \n",
       "3                                                 24                                                                                                                                                                                               \n",
       "4                                                 32                                                                                                                                                                                               \n",
       "\n",
       "   Interaction data:2011 SWS MSOA/SOA/Intermediate Zone [Location of usual residence and place of work by method of travel to work] - WU03UK - Safeguarded:[Table WU03UK; Cell 4] Method of travel to work Train;  \\\n",
       "0                                                111                                                                                                                                                                \n",
       "1                                                324                                                                                                                                                                \n",
       "2                                                112                                                                                                                                                                \n",
       "3                                                150                                                                                                                                                                \n",
       "4                                                106                                                                                                                                                                \n",
       "\n",
       "   Interaction data:2011 SWS MSOA/SOA/Intermediate Zone [Location of usual residence and place of work by method of travel to work] - WU03UK - Safeguarded:[Table WU03UK; Cell 5] Method of travel to work Bus, minibus or coach;  \\\n",
       "0                                                  1                                                                                                                                                                                \n",
       "1                                                  3                                                                                                                                                                                \n",
       "2                                                  3                                                                                                                                                                                \n",
       "3                                                  4                                                                                                                                                                                \n",
       "4                                                  4                                                                                                                                                                                \n",
       "\n",
       "   Interaction data:2011 SWS MSOA/SOA/Intermediate Zone [Location of usual residence and place of work by method of travel to work] - WU03UK - Safeguarded:[Table WU03UK; Cell 6] Method of travel to work Taxi;  \\\n",
       "0                                                  0                                                                                                                                                               \n",
       "1                                                  0                                                                                                                                                               \n",
       "2                                                  0                                                                                                                                                               \n",
       "3                                                  0                                                                                                                                                               \n",
       "4                                                  1                                                                                                                                                               \n",
       "\n",
       "   Interaction data:2011 SWS MSOA/SOA/Intermediate Zone [Location of usual residence and place of work by method of travel to work] - WU03UK - Safeguarded:[Table WU03UK; Cell 7] Method of travel to work Motorcycle, scooter or moped;  \\\n",
       "0                                                  1                                                                                                                                                                                       \n",
       "1                                                  2                                                                                                                                                                                       \n",
       "2                                                  0                                                                                                                                                                                       \n",
       "3                                                  1                                                                                                                                                                                       \n",
       "4                                                  0                                                                                                                                                                                       \n",
       "\n",
       "   Interaction data:2011 SWS MSOA/SOA/Intermediate Zone [Location of usual residence and place of work by method of travel to work] - WU03UK - Safeguarded:[Table WU03UK; Cell 8] Method of travel to work Driving a car or van;  \\\n",
       "0                                                 14                                                                                                                                                                               \n",
       "1                                                  8                                                                                                                                                                               \n",
       "2                                                  7                                                                                                                                                                               \n",
       "3                                                 11                                                                                                                                                                               \n",
       "4                                                 12                                                                                                                                                                               \n",
       "\n",
       "   Interaction data:2011 SWS MSOA/SOA/Intermediate Zone [Location of usual residence and place of work by method of travel to work] - WU03UK - Safeguarded:[Table WU03UK; Cell 9] Method of travel to work Passenger in a car or van;  \\\n",
       "0                                                  0                                                                                                                                                                                    \n",
       "1                                                  0                                                                                                                                                                                    \n",
       "2                                                  1                                                                                                                                                                                    \n",
       "3                                                  0                                                                                                                                                                                    \n",
       "4                                                  1                                                                                                                                                                                    \n",
       "\n",
       "   Interaction data:2011 SWS MSOA/SOA/Intermediate Zone [Location of usual residence and place of work by method of travel to work] - WU03UK - Safeguarded:[Table WU03UK; Cell 10] Method of travel to work Bicycle;  \\\n",
       "0                                                  2                                                                                                                                                                   \n",
       "1                                                  8                                                                                                                                                                   \n",
       "2                                                  3                                                                                                                                                                   \n",
       "3                                                  1                                                                                                                                                                   \n",
       "4                                                  4                                                                                                                                                                   \n",
       "\n",
       "   Interaction data:2011 SWS MSOA/SOA/Intermediate Zone [Location of usual residence and place of work by method of travel to work] - WU03UK - Safeguarded:[Table WU03UK; Cell 11] Method of travel to work On foot;  \\\n",
       "0                                                  0                                                                                                                                                                   \n",
       "1                                                  1                                                                                                                                                                   \n",
       "2                                                  0                                                                                                                                                                   \n",
       "3                                                  0                                                                                                                                                                   \n",
       "4                                                  1                                                                                                                                                                   \n",
       "\n",
       "   Interaction data:2011 SWS MSOA/SOA/Intermediate Zone [Location of usual residence and place of work by method of travel to work] - WU03UK - Safeguarded:[Table WU03UK; Cell 12] Method of travel to work Other method of transport to work;  \\\n",
       "0                                                  0                                                                                                                                                                                             \n",
       "1                                                  0                                                                                                                                                                                             \n",
       "2                                                  0                                                                                                                                                                                             \n",
       "3                                                  0                                                                                                                                                                                             \n",
       "4                                                  1                                                                                                                                                                                             \n",
       "\n",
       "        orig_msoa11nm       dest_msoa11nm orig_msoa11cd dest_msoa11cd  \n",
       "0  Waltham Forest 001  City of London 001     E02000895     E02000001  \n",
       "1  Waltham Forest 002  City of London 001     E02000896     E02000001  \n",
       "2  Waltham Forest 003  City of London 001     E02000897     E02000001  \n",
       "3  Waltham Forest 004  City of London 001     E02000898     E02000001  \n",
       "4  Waltham Forest 005  City of London 001     E02000899     E02000001  "
      ]
     },
     "execution_count": 67,
     "metadata": {},
     "output_type": "execute_result"
    }
   ],
   "source": [
    "# merge in MSOA codes from geospatial data.\n",
    "flows_mode = flows_mode.merge(msoas[['msoa11cd','msoa11nm']],left_on = 'orig_msoa11nm', right_on = 'msoa11nm')\n",
    "flows_mode.rename(columns={'msoa11cd':'orig_msoa11cd'},inplace=True)\n",
    "flows_mode.drop('msoa11nm', axis=1,inplace=True)\n",
    "# *** #\n",
    "flows_mode = flows_mode.merge(msoas[['msoa11cd','msoa11nm']],left_on = 'dest_msoa11nm', right_on = 'msoa11nm')\n",
    "flows_mode.rename(columns={'msoa11cd':'dest_msoa11cd'},inplace=True)\n",
    "flows_mode.drop('msoa11nm', axis=1,inplace=True)\n",
    "# *** #\n",
    "flows_mode.drop(['Origins','Destinations'], axis=1,inplace=True)\n",
    "flows_mode.head()"
   ]
  },
  {
   "cell_type": "code",
   "execution_count": 75,
   "metadata": {},
   "outputs": [
    {
     "data": {
      "text/html": [
       "<div>\n",
       "<style>\n",
       "    .dataframe thead tr:only-child th {\n",
       "        text-align: right;\n",
       "    }\n",
       "\n",
       "    .dataframe thead th {\n",
       "        text-align: left;\n",
       "    }\n",
       "\n",
       "    .dataframe tbody tr th {\n",
       "        vertical-align: top;\n",
       "    }\n",
       "</style>\n",
       "<table border=\"1\" class=\"dataframe\">\n",
       "  <thead>\n",
       "    <tr style=\"text-align: right;\">\n",
       "      <th></th>\n",
       "      <th>all_modes</th>\n",
       "      <th>home</th>\n",
       "      <th>metro</th>\n",
       "      <th>train</th>\n",
       "      <th>bus</th>\n",
       "      <th>taxi</th>\n",
       "      <th>motorcycle</th>\n",
       "      <th>car</th>\n",
       "      <th>car_passenger</th>\n",
       "      <th>bicycle</th>\n",
       "      <th>walk</th>\n",
       "      <th>other</th>\n",
       "      <th>orig_msoa11nm</th>\n",
       "      <th>dest_msoa11nm</th>\n",
       "      <th>orig_msoa11cd</th>\n",
       "      <th>dest_msoa11cd</th>\n",
       "    </tr>\n",
       "  </thead>\n",
       "  <tbody>\n",
       "    <tr>\n",
       "      <th>0</th>\n",
       "      <td>136</td>\n",
       "      <td>0</td>\n",
       "      <td>7</td>\n",
       "      <td>111</td>\n",
       "      <td>1</td>\n",
       "      <td>0</td>\n",
       "      <td>1</td>\n",
       "      <td>14</td>\n",
       "      <td>0</td>\n",
       "      <td>2</td>\n",
       "      <td>0</td>\n",
       "      <td>0</td>\n",
       "      <td>Waltham Forest 001</td>\n",
       "      <td>City of London 001</td>\n",
       "      <td>E02000895</td>\n",
       "      <td>E02000001</td>\n",
       "    </tr>\n",
       "    <tr>\n",
       "      <th>1</th>\n",
       "      <td>383</td>\n",
       "      <td>0</td>\n",
       "      <td>37</td>\n",
       "      <td>324</td>\n",
       "      <td>3</td>\n",
       "      <td>0</td>\n",
       "      <td>2</td>\n",
       "      <td>8</td>\n",
       "      <td>0</td>\n",
       "      <td>8</td>\n",
       "      <td>1</td>\n",
       "      <td>0</td>\n",
       "      <td>Waltham Forest 002</td>\n",
       "      <td>City of London 001</td>\n",
       "      <td>E02000896</td>\n",
       "      <td>E02000001</td>\n",
       "    </tr>\n",
       "    <tr>\n",
       "      <th>2</th>\n",
       "      <td>178</td>\n",
       "      <td>0</td>\n",
       "      <td>52</td>\n",
       "      <td>112</td>\n",
       "      <td>3</td>\n",
       "      <td>0</td>\n",
       "      <td>0</td>\n",
       "      <td>7</td>\n",
       "      <td>1</td>\n",
       "      <td>3</td>\n",
       "      <td>0</td>\n",
       "      <td>0</td>\n",
       "      <td>Waltham Forest 003</td>\n",
       "      <td>City of London 001</td>\n",
       "      <td>E02000897</td>\n",
       "      <td>E02000001</td>\n",
       "    </tr>\n",
       "    <tr>\n",
       "      <th>3</th>\n",
       "      <td>191</td>\n",
       "      <td>0</td>\n",
       "      <td>24</td>\n",
       "      <td>150</td>\n",
       "      <td>4</td>\n",
       "      <td>0</td>\n",
       "      <td>1</td>\n",
       "      <td>11</td>\n",
       "      <td>0</td>\n",
       "      <td>1</td>\n",
       "      <td>0</td>\n",
       "      <td>0</td>\n",
       "      <td>Waltham Forest 004</td>\n",
       "      <td>City of London 001</td>\n",
       "      <td>E02000898</td>\n",
       "      <td>E02000001</td>\n",
       "    </tr>\n",
       "    <tr>\n",
       "      <th>4</th>\n",
       "      <td>162</td>\n",
       "      <td>0</td>\n",
       "      <td>32</td>\n",
       "      <td>106</td>\n",
       "      <td>4</td>\n",
       "      <td>1</td>\n",
       "      <td>0</td>\n",
       "      <td>12</td>\n",
       "      <td>1</td>\n",
       "      <td>4</td>\n",
       "      <td>1</td>\n",
       "      <td>1</td>\n",
       "      <td>Waltham Forest 005</td>\n",
       "      <td>City of London 001</td>\n",
       "      <td>E02000899</td>\n",
       "      <td>E02000001</td>\n",
       "    </tr>\n",
       "  </tbody>\n",
       "</table>\n",
       "</div>"
      ],
      "text/plain": [
       "   all_modes  home  metro  train  bus  taxi  motorcycle  car  car_passenger  \\\n",
       "0        136     0      7    111    1     0           1   14              0   \n",
       "1        383     0     37    324    3     0           2    8              0   \n",
       "2        178     0     52    112    3     0           0    7              1   \n",
       "3        191     0     24    150    4     0           1   11              0   \n",
       "4        162     0     32    106    4     1           0   12              1   \n",
       "\n",
       "   bicycle  walk  other       orig_msoa11nm       dest_msoa11nm orig_msoa11cd  \\\n",
       "0        2     0      0  Waltham Forest 001  City of London 001     E02000895   \n",
       "1        8     1      0  Waltham Forest 002  City of London 001     E02000896   \n",
       "2        3     0      0  Waltham Forest 003  City of London 001     E02000897   \n",
       "3        1     0      0  Waltham Forest 004  City of London 001     E02000898   \n",
       "4        4     1      1  Waltham Forest 005  City of London 001     E02000899   \n",
       "\n",
       "  dest_msoa11cd  \n",
       "0     E02000001  \n",
       "1     E02000001  \n",
       "2     E02000001  \n",
       "3     E02000001  \n",
       "4     E02000001  "
      ]
     },
     "execution_count": 75,
     "metadata": {},
     "output_type": "execute_result"
    }
   ],
   "source": [
    "# Finally, let's tidy up the variable names so that they are understandable.\n",
    "columns = ['all_modes','home','metro','train','bus','taxi','motorcycle','car','car_passenger','bicycle','walk','other']\n",
    "flows_mode.columns = columns + list(flows_mode.columns[-4:])\n",
    "flows_mode.head()"
   ]
  },
  {
   "cell_type": "code",
   "execution_count": 97,
   "metadata": {},
   "outputs": [
    {
     "data": {
      "text/html": [
       "<div>\n",
       "<style>\n",
       "    .dataframe thead tr:only-child th {\n",
       "        text-align: right;\n",
       "    }\n",
       "\n",
       "    .dataframe thead th {\n",
       "        text-align: left;\n",
       "    }\n",
       "\n",
       "    .dataframe tbody tr th {\n",
       "        vertical-align: top;\n",
       "    }\n",
       "</style>\n",
       "<table border=\"1\" class=\"dataframe\">\n",
       "  <thead>\n",
       "    <tr style=\"text-align: right;\">\n",
       "      <th></th>\n",
       "      <th>orig_msoa11cd</th>\n",
       "      <th>orig_msoa11nm</th>\n",
       "      <th>dest_msoa11cd</th>\n",
       "      <th>dest_msoa11nm</th>\n",
       "      <th>Car</th>\n",
       "      <th>Cycle</th>\n",
       "      <th>Public</th>\n",
       "      <th>Walk</th>\n",
       "    </tr>\n",
       "  </thead>\n",
       "  <tbody>\n",
       "    <tr>\n",
       "      <th>0</th>\n",
       "      <td>E02000895</td>\n",
       "      <td>Waltham Forest 001</td>\n",
       "      <td>E02000001</td>\n",
       "      <td>City of London 001</td>\n",
       "      <td>15</td>\n",
       "      <td>2</td>\n",
       "      <td>119</td>\n",
       "      <td>0</td>\n",
       "    </tr>\n",
       "    <tr>\n",
       "      <th>1</th>\n",
       "      <td>E02000896</td>\n",
       "      <td>Waltham Forest 002</td>\n",
       "      <td>E02000001</td>\n",
       "      <td>City of London 001</td>\n",
       "      <td>10</td>\n",
       "      <td>8</td>\n",
       "      <td>364</td>\n",
       "      <td>1</td>\n",
       "    </tr>\n",
       "    <tr>\n",
       "      <th>2</th>\n",
       "      <td>E02000897</td>\n",
       "      <td>Waltham Forest 003</td>\n",
       "      <td>E02000001</td>\n",
       "      <td>City of London 001</td>\n",
       "      <td>8</td>\n",
       "      <td>3</td>\n",
       "      <td>167</td>\n",
       "      <td>0</td>\n",
       "    </tr>\n",
       "    <tr>\n",
       "      <th>3</th>\n",
       "      <td>E02000898</td>\n",
       "      <td>Waltham Forest 004</td>\n",
       "      <td>E02000001</td>\n",
       "      <td>City of London 001</td>\n",
       "      <td>12</td>\n",
       "      <td>1</td>\n",
       "      <td>178</td>\n",
       "      <td>0</td>\n",
       "    </tr>\n",
       "    <tr>\n",
       "      <th>4</th>\n",
       "      <td>E02000899</td>\n",
       "      <td>Waltham Forest 005</td>\n",
       "      <td>E02000001</td>\n",
       "      <td>City of London 001</td>\n",
       "      <td>14</td>\n",
       "      <td>4</td>\n",
       "      <td>142</td>\n",
       "      <td>1</td>\n",
       "    </tr>\n",
       "  </tbody>\n",
       "</table>\n",
       "</div>"
      ],
      "text/plain": [
       "  orig_msoa11cd       orig_msoa11nm dest_msoa11cd       dest_msoa11nm  Car  \\\n",
       "0     E02000895  Waltham Forest 001     E02000001  City of London 001   15   \n",
       "1     E02000896  Waltham Forest 002     E02000001  City of London 001   10   \n",
       "2     E02000897  Waltham Forest 003     E02000001  City of London 001    8   \n",
       "3     E02000898  Waltham Forest 004     E02000001  City of London 001   12   \n",
       "4     E02000899  Waltham Forest 005     E02000001  City of London 001   14   \n",
       "\n",
       "   Cycle  Public  Walk  \n",
       "0      2     119     0  \n",
       "1      8     364     1  \n",
       "2      3     167     0  \n",
       "3      1     178     0  \n",
       "4      4     142     1  "
      ]
     },
     "execution_count": 97,
     "metadata": {},
     "output_type": "execute_result"
    }
   ],
   "source": [
    "# Now collapse the modes into the modes we are using in motivate - we'll be dropping 'home' and 'other'\n",
    "modes = {'Public':['metro','train','bus'],'Car':['taxi','motorcycle','car','car_passenger'],'Cycle':['bicycle'],'Walk':['walk']}\n",
    "\n",
    "mode_sums = {}\n",
    "for agg_mode, modes in modes.items():\n",
    "    mode_sums[agg_mode] = pd.Series(flows_mode.loc[:,modes].sum(axis=1),name=agg_mode)\n",
    "flows = flows_mode[['orig_msoa11cd','orig_msoa11nm','dest_msoa11cd','dest_msoa11nm']].merge(pd.DataFrame(mode_sums), left_index=True, right_index=True)\n",
    "flows.head()"
   ]
  },
  {
   "cell_type": "code",
   "execution_count": 109,
   "metadata": {},
   "outputs": [
    {
     "data": {
      "text/html": [
       "<div>\n",
       "<style>\n",
       "    .dataframe thead tr:only-child th {\n",
       "        text-align: right;\n",
       "    }\n",
       "\n",
       "    .dataframe thead th {\n",
       "        text-align: left;\n",
       "    }\n",
       "\n",
       "    .dataframe tbody tr th {\n",
       "        vertical-align: top;\n",
       "    }\n",
       "</style>\n",
       "<table border=\"1\" class=\"dataframe\">\n",
       "  <thead>\n",
       "    <tr style=\"text-align: right;\">\n",
       "      <th></th>\n",
       "      <th>orig_msoa11cd</th>\n",
       "      <th>orig_msoa11nm</th>\n",
       "      <th>dest_msoa11cd</th>\n",
       "      <th>dest_msoa11nm</th>\n",
       "      <th>Car</th>\n",
       "      <th>Cycle</th>\n",
       "      <th>Public</th>\n",
       "      <th>Walk</th>\n",
       "      <th>dist</th>\n",
       "    </tr>\n",
       "  </thead>\n",
       "  <tbody>\n",
       "    <tr>\n",
       "      <th>0</th>\n",
       "      <td>E02000895</td>\n",
       "      <td>Waltham Forest 001</td>\n",
       "      <td>E02000001</td>\n",
       "      <td>City of London 001</td>\n",
       "      <td>15</td>\n",
       "      <td>2</td>\n",
       "      <td>119</td>\n",
       "      <td>0</td>\n",
       "      <td>14544.265636</td>\n",
       "    </tr>\n",
       "    <tr>\n",
       "      <th>1</th>\n",
       "      <td>E02000896</td>\n",
       "      <td>Waltham Forest 002</td>\n",
       "      <td>E02000001</td>\n",
       "      <td>City of London 001</td>\n",
       "      <td>10</td>\n",
       "      <td>8</td>\n",
       "      <td>364</td>\n",
       "      <td>1</td>\n",
       "      <td>14941.604343</td>\n",
       "    </tr>\n",
       "    <tr>\n",
       "      <th>2</th>\n",
       "      <td>E02000897</td>\n",
       "      <td>Waltham Forest 003</td>\n",
       "      <td>E02000001</td>\n",
       "      <td>City of London 001</td>\n",
       "      <td>8</td>\n",
       "      <td>3</td>\n",
       "      <td>167</td>\n",
       "      <td>0</td>\n",
       "      <td>13619.625082</td>\n",
       "    </tr>\n",
       "    <tr>\n",
       "      <th>3</th>\n",
       "      <td>E02000898</td>\n",
       "      <td>Waltham Forest 004</td>\n",
       "      <td>E02000001</td>\n",
       "      <td>City of London 001</td>\n",
       "      <td>12</td>\n",
       "      <td>1</td>\n",
       "      <td>178</td>\n",
       "      <td>0</td>\n",
       "      <td>12985.348573</td>\n",
       "    </tr>\n",
       "    <tr>\n",
       "      <th>4</th>\n",
       "      <td>E02000899</td>\n",
       "      <td>Waltham Forest 005</td>\n",
       "      <td>E02000001</td>\n",
       "      <td>City of London 001</td>\n",
       "      <td>14</td>\n",
       "      <td>4</td>\n",
       "      <td>142</td>\n",
       "      <td>1</td>\n",
       "      <td>12631.627949</td>\n",
       "    </tr>\n",
       "  </tbody>\n",
       "</table>\n",
       "</div>"
      ],
      "text/plain": [
       "  orig_msoa11cd       orig_msoa11nm dest_msoa11cd       dest_msoa11nm  Car  \\\n",
       "0     E02000895  Waltham Forest 001     E02000001  City of London 001   15   \n",
       "1     E02000896  Waltham Forest 002     E02000001  City of London 001   10   \n",
       "2     E02000897  Waltham Forest 003     E02000001  City of London 001    8   \n",
       "3     E02000898  Waltham Forest 004     E02000001  City of London 001   12   \n",
       "4     E02000899  Waltham Forest 005     E02000001  City of London 001   14   \n",
       "\n",
       "   Cycle  Public  Walk          dist  \n",
       "0      2     119     0  14544.265636  \n",
       "1      8     364     1  14941.604343  \n",
       "2      3     167     0  13619.625082  \n",
       "3      1     178     0  12985.348573  \n",
       "4      4     142     1  12631.627949  "
      ]
     },
     "execution_count": 109,
     "metadata": {},
     "output_type": "execute_result"
    }
   ],
   "source": [
    "# Now we need to add some straight-line distances to the origin-destination pairs\n",
    "dists = []\n",
    "for idx, row in flows.iterrows():\n",
    "    orig_pnt = msoas.loc[msoas['msoa11cd']==row['orig_msoa11cd']]['geometry'].centroid.values[0]\n",
    "    dists.append(msoas.loc[msoas['msoa11cd']==row['dest_msoa11cd']]['geometry'].centroid.distance(orig_pnt).values[0])\n",
    "flows['dist'] = dists\n",
    "flows.head()"
   ]
  },
  {
   "cell_type": "markdown",
   "metadata": {},
   "source": [
    "# Walk Distribution"
   ]
  },
  {
   "cell_type": "code",
   "execution_count": 122,
   "metadata": {},
   "outputs": [
    {
     "data": {
      "text/plain": [
       "2640.617999765788"
      ]
     },
     "execution_count": 122,
     "metadata": {},
     "output_type": "execute_result"
    }
   ],
   "source": [
    "# Now we can look at the distribution of travel distances by modes.\n",
    "# We do this by effectively disaggregating/unpacking the flows\n",
    "# walk distance\n",
    "walk = flows[flows['Walk'] >0]\n",
    "# Average walk commute = 2.64 km - this is about a 30 minute walk - might be a bit high?\n",
    "(walk['Walk'] * walk['dist']).sum()/walk['Walk'].sum()"
   ]
  },
  {
   "cell_type": "code",
   "execution_count": 126,
   "metadata": {},
   "outputs": [
    {
     "data": {
      "text/plain": [
       "2640.6179997657896"
      ]
     },
     "execution_count": 126,
     "metadata": {},
     "output_type": "execute_result"
    }
   ],
   "source": [
    "# unpack the walks\n",
    "walk_dists = []\n",
    "for idx, row in walk.iterrows():\n",
    "    for i in range(0,row['Walk']):\n",
    "        walk_dists.append(row['dist'])\n",
    "walk_dists = np.array(walk_dists)\n",
    "walk_dists.mean()"
   ]
  },
  {
   "cell_type": "code",
   "execution_count": 147,
   "metadata": {},
   "outputs": [
    {
     "data": {
      "image/png": "[encoded data removed]",
      "text/plain": [
       "<Figure size 864x648 with 1 Axes>"
      ]
     },
     "metadata": {},
     "output_type": "display_data"
    }
   ],
   "source": [
    "# zeroes represent within msoa commutes in Waltham Forest. c. 25% of all walks.\n",
    "# reported walks have a curiously long tail of long walk commutes.\n",
    "walk_dists = walk_dists[walk_dists < 25000] # get rid of the n=65 (0.9%) commutes > 25km.\n",
    "\n",
    "# The gap represents the within msoa differences\n",
    "f, ax = plt.subplots(figsize=(12,9))\n",
    "ax.hist(walk_dists, bins=100);"
   ]
  },
  {
   "cell_type": "code",
   "execution_count": 222,
   "metadata": {},
   "outputs": [
    {
     "data": {
      "image/png": "[encoded data removed]",
      "text/plain": [
       "<Figure size 864x648 with 1 Axes>"
      ]
     },
     "metadata": {},
     "output_type": "display_data"
    }
   ],
   "source": [
    "# I reckon that the lognormal is going to be a good model for walks, smoothing the zeroes out, but maintaining a right skew.\n",
    "from scipy.stats import lognorm\n",
    "\n",
    "f, ax = plt.subplots(figsize=(12,9))\n",
    "\n",
    "# This is the fit based only on the data we have.\n",
    "param = lognorm.fit(walk_dists,floc=0)\n",
    "pdf = lognorm.pdf(np.linspace(0,25000,1000),param[0],loc=param[1],scale=param[2])\n",
    "plt.plot(np.linspace(0,25000,1000),pdf, lw = 2.5)\n",
    "ax.hist(walk_dists, bins=100,density=True);"
   ]
  },
  {
   "cell_type": "code",
   "execution_count": 162,
   "metadata": {},
   "outputs": [
    {
     "name": "stdout",
     "output_type": "stream",
     "text": [
      "(0.85744580151979521, 0, 1476.6054358330252)\n"
     ]
    },
    {
     "data": {
      "text/plain": [
       "3200.8917735864352"
      ]
     },
     "execution_count": 162,
     "metadata": {},
     "output_type": "execute_result"
    }
   ],
   "source": [
    "# get the shape (std. dev), loc and scale (mean) parameters\n",
    "print param\n",
    "# random draw from the fitted lognormal\n",
    "lognorm.rvs(param[0],param[1],param[2])"
   ]
  },
  {
   "cell_type": "code",
   "execution_count": 343,
   "metadata": {},
   "outputs": [
    {
     "data": {
      "image/png": "[encoded data removed]",
      "text/plain": [
       "<Figure size 864x648 with 1 Axes>"
      ]
     },
     "metadata": {},
     "output_type": "display_data"
    }
   ],
   "source": [
    "# I'm not that happy with the fitted lognormal against the right tail, so will try and tweak the fit.\n",
    "f, ax = plt.subplots(figsize=(12,9))\n",
    "\n",
    "# This is a guess.\n",
    "pdf = lognorm.pdf(np.linspace(0,25000,1000),0.75,loc=0,scale=1175)\n",
    "plt.plot(np.linspace(0,25000,1000),pdf, lw = 2.5)\n",
    "ax.hist(walk_dists, bins=100,density=True);\n",
    "# This looks good.\n",
    "# params = 0.75, 0, 1175"
   ]
  },
  {
   "cell_type": "markdown",
   "metadata": {},
   "source": [
    "# Cycle Distribution"
   ]
  },
  {
   "cell_type": "code",
   "execution_count": 168,
   "metadata": {},
   "outputs": [
    {
     "data": {
      "text/plain": [
       "7718.2105829067195"
      ]
     },
     "execution_count": 168,
     "metadata": {},
     "output_type": "execute_result"
    }
   ],
   "source": [
    "cycle = flows[flows['Cycle'] >0]\n",
    "# Average cycle commute = 7.72 km.\n",
    "(cycle['Cycle'] * cycle['dist']).sum()/cycle['Cycle'].sum()"
   ]
  },
  {
   "cell_type": "code",
   "execution_count": 174,
   "metadata": {},
   "outputs": [
    {
     "data": {
      "text/plain": [
       "7718.2105829067204"
      ]
     },
     "execution_count": 174,
     "metadata": {},
     "output_type": "execute_result"
    }
   ],
   "source": [
    "# unpack the cycles\n",
    "cycle_dists = []\n",
    "for idx, row in cycle.iterrows():\n",
    "    for i in range(0,row['Cycle']):\n",
    "        cycle_dists.append(row['dist'])\n",
    "cycle_dists = np.array(cycle_dists)\n",
    "cycle_dists.mean()"
   ]
  },
  {
   "cell_type": "code",
   "execution_count": 377,
   "metadata": {},
   "outputs": [
    {
     "data": {
      "image/png": "[encoded data removed]",
      "text/plain": [
       "<Figure size 864x648 with 1 Axes>"
      ]
     },
     "metadata": {},
     "output_type": "display_data"
    }
   ],
   "source": [
    "# zeroes represent within msoa commutes in Waltham Forest. c. 25% of all walks.\n",
    "# reported walks have a curiously long tail of long walk commutes.\n",
    "cycle_dists = cycle_dists[cycle_dists <= 40000] # get rid of the n=20 (0.7%) commutes > 25km.\n",
    "\n",
    "f, ax = plt.subplots(figsize=(12,9))\n",
    "ax.hist(cycle_dists, bins=50);\n",
    "\n",
    "# looks broadly like a bimodal distribution, similar to the global pattern of commutes.\n",
    "# Will attempt to use a mixture of gaussians to approximate this one."
   ]
  },
  {
   "cell_type": "code",
   "execution_count": 378,
   "metadata": {},
   "outputs": [
    {
     "data": {
      "image/png": "[encoded data removed]",
      "text/plain": [
       "<Figure size 432x288 with 1 Axes>"
      ]
     },
     "metadata": {},
     "output_type": "display_data"
    }
   ],
   "source": [
    "n_components = np.arange(1, 11)\n",
    "models = [GaussianMixture(n, covariance_type='full', random_state=99).fit(np.expand_dims(cycle_dists,1))\n",
    "          for n in n_components]\n",
    "\n",
    "plt.plot(n_components, [m.bic(np.expand_dims(cycle_dists,1)) for m in models], label='BIC')\n",
    "plt.plot(n_components, [m.aic(np.expand_dims(cycle_dists,1)) for m in models], label='AIC')\n",
    "plt.legend(loc='best')\n",
    "plt.xlabel('n_components');\n",
    "\n",
    "# Somewhere between 3 and 6 components is best, we'll choose 3 for simplicity."
   ]
  },
  {
   "cell_type": "code",
   "execution_count": 379,
   "metadata": {},
   "outputs": [
    {
     "data": {
      "image/png": "[encoded data removed]",
      "text/plain": [
       "<Figure size 864x648 with 1 Axes>"
      ]
     },
     "metadata": {},
     "output_type": "display_data"
    }
   ],
   "source": [
    "# 3 components works pretty well.\n",
    "gmm = GaussianMixture(n_components=3,covariance_type='full')\n",
    "gmm = gmm.fit(X = np.expand_dims(cycle_dists,1))\n",
    "\n",
    "# Evaluate GMM\n",
    "gmm_x = np.linspace(0,40000,1000)\n",
    "gmm_y = np.exp(gmm.score_samples(gmm_x.reshape(-1,1)))\n",
    "\n",
    "f, ax = plt.subplots(figsize=(12,9))\n",
    "ax.hist(cycle_dists, bins=50, density=True)\n",
    "ax.plot(gmm_x, gmm_y, color=\"crimson\", lw=2.5, label=\"GMM\");"
   ]
  },
  {
   "cell_type": "code",
   "execution_count": 417,
   "metadata": {},
   "outputs": [
    {
     "name": "stdout",
     "output_type": "stream",
     "text": [
      "means: 9137.87807414 , 2982.73455673 , 14156.3250026\n",
      "std. devs: 2449.21555611 , 1659.63048823 , 5925.8505006\n",
      "weights: 0.546780230844 , 0.362044475394 , 0.0911752937624\n"
     ]
    }
   ],
   "source": [
    "# Get the model components\n",
    "print \"means:\", gmm.means_[0][0],\",\", gmm.means_[1][0],\",\", gmm.means_[2][0]\n",
    "print \"std. devs:\", np.sqrt(gmm.covariances_[0][0][0]),\",\",np.sqrt(gmm.covariances_[1][0][0]),\",\",np.sqrt(gmm.covariances_[2][0][0])\n",
    "print \"weights:\", gmm.weights_[0],\",\",gmm.weights_[1],\",\",gmm.weights_[2]"
   ]
  },
  {
   "cell_type": "markdown",
   "metadata": {},
   "source": [
    "# Cars (Private Transport)"
   ]
  },
  {
   "cell_type": "code",
   "execution_count": 238,
   "metadata": {},
   "outputs": [
    {
     "data": {
      "text/plain": [
       "9358.838326825826"
      ]
     },
     "execution_count": 238,
     "metadata": {},
     "output_type": "execute_result"
    }
   ],
   "source": [
    "car = flows[flows['Car'] >0]\n",
    "# Average cycle commute = 9.36 km.\n",
    "(car['Car'] * car['dist']).sum()/car['Car'].sum()"
   ]
  },
  {
   "cell_type": "code",
   "execution_count": 241,
   "metadata": {},
   "outputs": [
    {
     "data": {
      "text/plain": [
       "9358.8383268258513"
      ]
     },
     "execution_count": 241,
     "metadata": {},
     "output_type": "execute_result"
    }
   ],
   "source": [
    "# unpack the cars\n",
    "car_dists = []\n",
    "for idx, row in car.iterrows():\n",
    "    for i in range(0,row['Car']):\n",
    "        car_dists.append(row['dist'])\n",
    "car_dists = np.array(car_dists)\n",
    "car_dists.mean()"
   ]
  },
  {
   "cell_type": "code",
   "execution_count": 252,
   "metadata": {},
   "outputs": [
    {
     "data": {
      "image/png": "[encoded data removed]",
      "text/plain": [
       "<Figure size 864x648 with 1 Axes>"
      ]
     },
     "metadata": {},
     "output_type": "display_data"
    }
   ],
   "source": [
    "car_dists = car_dists[car_dists<=80000] # excludes tail, n=119 (0.4% of commutes)\n",
    "\n",
    "f, ax = plt.subplots(figsize=(12,9))\n",
    "ax.hist(car_dists, bins=100);\n",
    "\n",
    "# slightly tricky distribution this, a lognormal might work though."
   ]
  },
  {
   "cell_type": "code",
   "execution_count": 268,
   "metadata": {},
   "outputs": [
    {
     "data": {
      "image/png": "[encoded data removed]",
      "text/plain": [
       "<Figure size 1008x576 with 1 Axes>"
      ]
     },
     "metadata": {},
     "output_type": "display_data"
    }
   ],
   "source": [
    "f, ax = plt.subplots(figsize=(14,8))\n",
    "\n",
    "param = lognorm.fit(car_dists,floc=0)\n",
    "pdf = lognorm.pdf(np.linspace(0,80000,1000),param[0],loc=param[1],scale=param[2])\n",
    "ax.plot(np.linspace(0,80000,1000),pdf, lw = 2.5)\n",
    "ax.hist(car_dists, bins=100,density=True);\n",
    "\n",
    "# I think this is a reasonable fit, although it will overestimate local trips.\n",
    "# Works a lot better than a gaussian mixture model."
   ]
  },
  {
   "cell_type": "code",
   "execution_count": 273,
   "metadata": {},
   "outputs": [
    {
     "name": "stdout",
     "output_type": "stream",
     "text": [
      "(0.87839072246042149, 0, 6166.9124954460649)\n"
     ]
    },
    {
     "data": {
      "text/plain": [
       "7314.3336612079802"
      ]
     },
     "execution_count": 273,
     "metadata": {},
     "output_type": "execute_result"
    }
   ],
   "source": [
    "# get params for lognormal distribution\n",
    "# get the shape (std. dev), loc and scale (mean) parameters\n",
    "print param\n",
    "# random draw from the fitted lognormal\n",
    "lognorm.rvs(param[0],param[1],param[2])"
   ]
  },
  {
   "cell_type": "markdown",
   "metadata": {},
   "source": [
    "# Public Transport (tube, train, bus)"
   ]
  },
  {
   "cell_type": "code",
   "execution_count": 274,
   "metadata": {},
   "outputs": [
    {
     "data": {
      "text/plain": [
       "10717.66013296752"
      ]
     },
     "execution_count": 274,
     "metadata": {},
     "output_type": "execute_result"
    }
   ],
   "source": [
    "public = flows[flows['Public'] >0]\n",
    "# Average public transport commute = 10.72 km.\n",
    "(public['Public'] * public['dist']).sum()/public['Public'].sum()"
   ]
  },
  {
   "cell_type": "code",
   "execution_count": 275,
   "metadata": {},
   "outputs": [
    {
     "data": {
      "text/plain": [
       "10717.66013296749"
      ]
     },
     "execution_count": 275,
     "metadata": {},
     "output_type": "execute_result"
    }
   ],
   "source": [
    "# unpack the public transport\n",
    "public_dists = []\n",
    "for idx, row in public.iterrows():\n",
    "    for i in range(0,row['Public']):\n",
    "        public_dists.append(row['dist'])\n",
    "public_dists = np.array(public_dists)\n",
    "public_dists.mean()"
   ]
  },
  {
   "cell_type": "code",
   "execution_count": 282,
   "metadata": {},
   "outputs": [
    {
     "data": {
      "image/png": "[encoded data removed]",
      "text/plain": [
       "<Figure size 864x648 with 1 Axes>"
      ]
     },
     "metadata": {},
     "output_type": "display_data"
    }
   ],
   "source": [
    "public_dists = public_dists[public_dists<=80000] # excludes tail, n=178 (0.3% of commutes)\n",
    "\n",
    "f, ax = plt.subplots(figsize=(12,9))\n",
    "ax.hist(public_dists, bins=100);\n",
    "\n",
    "# A curious distribution for which a mixture of gaussians might work."
   ]
  },
  {
   "cell_type": "code",
   "execution_count": 283,
   "metadata": {},
   "outputs": [
    {
     "data": {
      "image/png": "[encoded data removed]",
      "text/plain": [
       "<Figure size 432x288 with 1 Axes>"
      ]
     },
     "metadata": {},
     "output_type": "display_data"
    }
   ],
   "source": [
    "n_components = np.arange(1, 11)\n",
    "models = [GaussianMixture(n, covariance_type='full', random_state=99).fit(np.expand_dims(public_dists,1))\n",
    "          for n in n_components]\n",
    "\n",
    "plt.plot(n_components, [m.bic(np.expand_dims(public_dists,1)) for m in models], label='BIC')\n",
    "plt.plot(n_components, [m.aic(np.expand_dims(public_dists,1)) for m in models], label='AIC')\n",
    "plt.legend(loc='best')\n",
    "plt.xlabel('n_components');\n",
    "\n",
    "# Somewhere between 2 and 6 components is best.\n",
    "# We do seem to need 6 components here to do a decent job."
   ]
  },
  {
   "cell_type": "code",
   "execution_count": 293,
   "metadata": {},
   "outputs": [
    {
     "data": {
      "image/png": "[encoded data removed]",
      "text/plain": [
       "<Figure size 864x648 with 1 Axes>"
      ]
     },
     "metadata": {},
     "output_type": "display_data"
    }
   ],
   "source": [
    "# 6 components produces a good representation of the distribution.\n",
    "gmm = GaussianMixture(n_components=6,covariance_type='full')\n",
    "gmm = gmm.fit(X = np.expand_dims(public_dists,1))\n",
    "\n",
    "# Evaluate GMM\n",
    "gmm_x = np.linspace(0,80000,1000)\n",
    "gmm_y = np.exp(gmm.score_samples(gmm_x.reshape(-1,1)))\n",
    "\n",
    "f, ax = plt.subplots(figsize=(12,9))\n",
    "ax.hist(public_dists, bins=100, density=True)\n",
    "ax.plot(gmm_x, gmm_y, color=\"crimson\", lw=2.5, label=\"GMM\");"
   ]
  },
  {
   "cell_type": "code",
   "execution_count": 364,
   "metadata": {},
   "outputs": [
    {
     "name": "stdout",
     "output_type": "stream",
     "text": [
      "means: 3184.33245983 , 15627.6499253 , 11578.1475226 , 24537.2027739 , 49623.7544911 , 8188.58650357\n",
      "std. devs: 1689.1334523 , 2445.21736775 , 1577.06089454 , 5701.70677765 , 14168.5799137 , 1598.55641828\n",
      "weights: 0.186288357078 , 0.144633162853 , 0.331471791682 , 0.0336377162635 , 0.0099610217257 , 0.294007950397\n"
     ]
    }
   ],
   "source": [
    "# Get the model components\n",
    "print \"means:\", gmm.means_[0][0],\",\", gmm.means_[1][0],\",\", gmm.means_[2][0],\",\", gmm.means_[3][0],\",\", gmm.means_[4][0],\",\", gmm.means_[5][0]\n",
    "print \"std. devs:\", np.sqrt(gmm.covariances_[0][0][0]),\",\",np.sqrt(gmm.covariances_[1][0][0]),\",\",np.sqrt(gmm.covariances_[2][0][0]),\",\",np.sqrt(gmm.covariances_[3][0][0]),\",\",np.sqrt(gmm.covariances_[4][0][0]),\",\",np.sqrt(gmm.covariances_[5][0][0])\n",
    "print \"weights:\", gmm.weights_[0],\",\",gmm.weights_[1],\",\",gmm.weights_[2],\",\",gmm.weights_[3],\",\",gmm.weights_[4],\",\",gmm.weights_[5]"
   ]
  },
  {
   "cell_type": "markdown",
   "metadata": {},
   "source": [
    "# Allocate Distances to Simulated Data"
   ]
  },
  {
   "cell_type": "code",
   "execution_count": 369,
   "metadata": {},
   "outputs": [
    {
     "data": {
      "text/plain": [
       "worktrav\n",
       "Car             36378\n",
       "Cycle            3239\n",
       "Home             9220\n",
       "Public          64089\n",
       "Walk             7460\n",
       "inapplicable    70592\n",
       "Name: index, dtype: int64"
      ]
     },
     "execution_count": 369,
     "metadata": {},
     "output_type": "execute_result"
    }
   ],
   "source": [
    "# Get the count of individuals in the data by mode\n",
    "wf_indivs.groupby('worktrav')['index'].count()"
   ]
  },
  {
   "cell_type": "code",
   "execution_count": 431,
   "metadata": {},
   "outputs": [],
   "source": [
    "# generate 7,460 walk journey distances.\n",
    "# cap max distance walked at 10 km\n",
    "walk_sim = []\n",
    "for i in range(0,7460):\n",
    "    cand = lognorm.rvs(0.75, 0, 1175)\n",
    "    while cand > 10000:\n",
    "        cand = lognorm.rvs(0.75, 0, 1175)\n",
    "    walk_sim.append(cand)"
   ]
  },
  {
   "cell_type": "code",
   "execution_count": 422,
   "metadata": {},
   "outputs": [],
   "source": [
    "# generate 3,239 cycle journey distances. More tricky as a gmm\n",
    "cycle_sim = []\n",
    "\n",
    "means = [9137.87807414, 2982.73455673, 14156.3250026]\n",
    "stds = [2449.21555611, 1659.63048823, 5925.8505006]\n",
    "distribs = [norm(mean, std) for (mean, std) in zip(means,stds)]\n",
    "pick = np.cumsum([0.546780230844, 0.362044475394, 0.0911752937624])\n",
    "\n",
    "def choose_positive(dist):\n",
    "    cand = dist.rvs()\n",
    "    # Always return 0 or a positive random number.\n",
    "    # Is this legit?\n",
    "    while np.sign(cand) == -1:\n",
    "        cand = dist.rvs()\n",
    "    return cand\n",
    "\n",
    "for i in range(0,3239):\n",
    "    rn = np.random.rand()\n",
    "    if rn < pick[0]:\n",
    "        cycle_sim.append(choose_positive(distribs[0]))\n",
    "    elif rn < pick[1]:\n",
    "        cycle_sim.append(choose_positive(distribs[1]))\n",
    "    else:\n",
    "        cycle_sim.append(choose_positive(distribs[2]))"
   ]
  },
  {
   "cell_type": "code",
   "execution_count": 438,
   "metadata": {},
   "outputs": [],
   "source": [
    "# Generate 36,378 car journeys\n",
    "# limit the max journey to 80 km\n",
    "car_sim = []\n",
    "for i in range(0,36378):\n",
    "    cand = lognorm.rvs(0.87839072246042149, 0, 6166.9124954460649)\n",
    "    while cand > 80000:\n",
    "        cand = lognorm.rvs(0.87839072246042149, 0, 6166.9124954460649)\n",
    "    car_sim.append(cand)"
   ]
  },
  {
   "cell_type": "code",
   "execution_count": 444,
   "metadata": {},
   "outputs": [],
   "source": [
    "# Generate 64,089 public transport journeys\n",
    "public_sim = []\n",
    "\n",
    "means = [3184.33245983, 15627.6499253, 11578.1475226, 24537.2027739, 49623.7544911, 8188.58650357]\n",
    "stds = [1689.1334523, 2445.21736775, 1577.06089454, 5701.70677765, 14168.5799137, 1598.55641828]\n",
    "distribs = [norm(mean, std) for (mean, std) in zip(means,stds)]\n",
    "pick = np.cumsum([0.186288357078, 0.144633162853, 0.331471791682, 0.0336377162635, 0.0099610217257, 0.294007950397])\n",
    "\n",
    "for i in range(0,64089):\n",
    "    rn = np.random.rand()\n",
    "    if rn < pick[0]:\n",
    "        public_sim.append(choose_positive(distribs[0]))\n",
    "    elif rn < pick[1]:\n",
    "        public_sim.append(choose_positive(distribs[1]))\n",
    "    elif rn < pick[2]:\n",
    "        public_sim.append(choose_positive(distribs[2]))\n",
    "    elif rn < pick[3]:\n",
    "        public_sim.append(choose_positive(distribs[3]))\n",
    "    elif rn < pick[4]:\n",
    "        public_sim.append(choose_positive(distribs[4]))\n",
    "    else:\n",
    "        public_sim.append(choose_positive(distribs[5]))"
   ]
  },
  {
   "cell_type": "code",
   "execution_count": 450,
   "metadata": {},
   "outputs": [
    {
     "data": {
      "text/html": [
       "<div>\n",
       "<style>\n",
       "    .dataframe thead tr:only-child th {\n",
       "        text-align: right;\n",
       "    }\n",
       "\n",
       "    .dataframe thead th {\n",
       "        text-align: left;\n",
       "    }\n",
       "\n",
       "    .dataframe tbody tr th {\n",
       "        vertical-align: top;\n",
       "    }\n",
       "</style>\n",
       "<table border=\"1\" class=\"dataframe\">\n",
       "  <thead>\n",
       "    <tr style=\"text-align: right;\">\n",
       "      <th></th>\n",
       "      <th>index</th>\n",
       "      <th>pidp</th>\n",
       "      <th>sex</th>\n",
       "      <th>age_6cat</th>\n",
       "      <th>eth_5cat</th>\n",
       "      <th>employ</th>\n",
       "      <th>worktrav</th>\n",
       "      <th>caruse</th>\n",
       "      <th>cycleuse</th>\n",
       "      <th>f_workdis</th>\n",
       "      <th>ward</th>\n",
       "      <th>work_dis_class</th>\n",
       "      <th>workdis</th>\n",
       "      <th>sim_dist</th>\n",
       "    </tr>\n",
       "  </thead>\n",
       "  <tbody>\n",
       "    <tr>\n",
       "      <th>0</th>\n",
       "      <td>0</td>\n",
       "      <td>22445</td>\n",
       "      <td>f</td>\n",
       "      <td>25-34</td>\n",
       "      <td>White</td>\n",
       "      <td>Employed</td>\n",
       "      <td>Public</td>\n",
       "      <td>Car</td>\n",
       "      <td>Bike</td>\n",
       "      <td>5</td>\n",
       "      <td>E05000590</td>\n",
       "      <td>1.0</td>\n",
       "      <td>5</td>\n",
       "      <td>3492.721765</td>\n",
       "    </tr>\n",
       "    <tr>\n",
       "      <th>1</th>\n",
       "      <td>0</td>\n",
       "      <td>22445</td>\n",
       "      <td>f</td>\n",
       "      <td>25-34</td>\n",
       "      <td>White</td>\n",
       "      <td>Employed</td>\n",
       "      <td>Public</td>\n",
       "      <td>Car</td>\n",
       "      <td>Bike</td>\n",
       "      <td>5</td>\n",
       "      <td>E05000590</td>\n",
       "      <td>1.0</td>\n",
       "      <td>5</td>\n",
       "      <td>12498.866719</td>\n",
       "    </tr>\n",
       "    <tr>\n",
       "      <th>2</th>\n",
       "      <td>0</td>\n",
       "      <td>22445</td>\n",
       "      <td>f</td>\n",
       "      <td>25-34</td>\n",
       "      <td>White</td>\n",
       "      <td>Employed</td>\n",
       "      <td>Public</td>\n",
       "      <td>Car</td>\n",
       "      <td>Bike</td>\n",
       "      <td>5</td>\n",
       "      <td>E05000590</td>\n",
       "      <td>1.0</td>\n",
       "      <td>5</td>\n",
       "      <td>12411.032400</td>\n",
       "    </tr>\n",
       "    <tr>\n",
       "      <th>3</th>\n",
       "      <td>1</td>\n",
       "      <td>29925</td>\n",
       "      <td>f</td>\n",
       "      <td>35-44</td>\n",
       "      <td>White</td>\n",
       "      <td>SelfEmployed</td>\n",
       "      <td>Car</td>\n",
       "      <td>Car</td>\n",
       "      <td>NoBike</td>\n",
       "      <td>3</td>\n",
       "      <td>E05000590</td>\n",
       "      <td>1.0</td>\n",
       "      <td>3</td>\n",
       "      <td>13794.974969</td>\n",
       "    </tr>\n",
       "    <tr>\n",
       "      <th>4</th>\n",
       "      <td>1</td>\n",
       "      <td>29925</td>\n",
       "      <td>f</td>\n",
       "      <td>35-44</td>\n",
       "      <td>White</td>\n",
       "      <td>SelfEmployed</td>\n",
       "      <td>Car</td>\n",
       "      <td>Car</td>\n",
       "      <td>NoBike</td>\n",
       "      <td>3</td>\n",
       "      <td>E05000590</td>\n",
       "      <td>1.0</td>\n",
       "      <td>3</td>\n",
       "      <td>17946.035446</td>\n",
       "    </tr>\n",
       "  </tbody>\n",
       "</table>\n",
       "</div>"
      ],
      "text/plain": [
       "   index   pidp sex age_6cat eth_5cat        employ worktrav caruse cycleuse  \\\n",
       "0      0  22445   f    25-34    White      Employed   Public    Car     Bike   \n",
       "1      0  22445   f    25-34    White      Employed   Public    Car     Bike   \n",
       "2      0  22445   f    25-34    White      Employed   Public    Car     Bike   \n",
       "3      1  29925   f    35-44    White  SelfEmployed      Car    Car   NoBike   \n",
       "4      1  29925   f    35-44    White  SelfEmployed      Car    Car   NoBike   \n",
       "\n",
       "   f_workdis       ward  work_dis_class workdis      sim_dist  \n",
       "0          5  E05000590             1.0       5   3492.721765  \n",
       "1          5  E05000590             1.0       5  12498.866719  \n",
       "2          5  E05000590             1.0       5  12411.032400  \n",
       "3          3  E05000590             1.0       3  13794.974969  \n",
       "4          3  E05000590             1.0       3  17946.035446  "
      ]
     },
     "execution_count": 450,
     "metadata": {},
     "output_type": "execute_result"
    }
   ],
   "source": [
    "# Now apply these simulated distances to the appropriate subsets of simulated agent data\n",
    "# walk\n",
    "wf_indivs.loc[wf_indivs['worktrav'] == 'Walk','sim_dist'] = walk_sim\n",
    "# cycle\n",
    "wf_indivs.loc[wf_indivs['worktrav'] == 'Cycle','sim_dist'] = cycle_sim\n",
    "# car\n",
    "wf_indivs.loc[wf_indivs['worktrav'] == 'Car','sim_dist'] = car_sim\n",
    "# Public transport\n",
    "wf_indivs.loc[wf_indivs['worktrav'] == 'Public','sim_dist'] = public_sim\n",
    "\n",
    "wf_indivs.head()"
   ]
  },
  {
   "cell_type": "code",
   "execution_count": 459,
   "metadata": {},
   "outputs": [
    {
     "data": {
      "image/png": "[encoded data removed]",
      "text/plain": [
       "<Figure size 1008x504 with 1 Axes>"
      ]
     },
     "metadata": {},
     "output_type": "display_data"
    }
   ],
   "source": [
    "# check the combined histogram of simulated distances\n",
    "f, ax = plt.subplots(figsize=(14,7))\n",
    "ax.hist(wf_indivs.loc[wf_indivs['worktrav'].isin(['Walk','Cycle','Car','Public']),'sim_dist'],bins=100);\n",
    "# This looks very similar to the distribution we see from LSOA to WZ flows!"
   ]
  },
  {
   "cell_type": "code",
   "execution_count": 460,
   "metadata": {
    "collapsed": true
   },
   "outputs": [],
   "source": [
    "# We wold like to classify these journeys into: local, city and beyond based on distance.\n",
    "# We can explore this as previously with a gmm"
   ]
  },
  {
   "cell_type": "code",
   "execution_count": 465,
   "metadata": {},
   "outputs": [
    {
     "data": {
      "image/png": "[encoded data removed]",
      "text/plain": [
       "<Figure size 432x288 with 1 Axes>"
      ]
     },
     "metadata": {},
     "output_type": "display_data"
    }
   ],
   "source": [
    "n_components = np.arange(1, 11)\n",
    "X = wf_indivs.loc[wf_indivs['worktrav'].isin(['Walk','Cycle','Car','Public']),'sim_dist']\n",
    "models = [GaussianMixture(n, covariance_type='full', random_state=99).fit(np.expand_dims(X,1))\n",
    "          for n in n_components]\n",
    "\n",
    "plt.plot(n_components, [m.bic(np.expand_dims(X,1)) for m in models], label='BIC')\n",
    "plt.plot(n_components, [m.aic(np.expand_dims(X,1)) for m in models], label='AIC')\n",
    "plt.legend(loc='best')\n",
    "plt.xlabel('n_components');\n",
    "\n",
    "# Somewhere between 3 and 6 components is best.\n",
    "# 3 components does as good a job as higher component models, which seem to focus on fitting the right tail.\n",
    "# Thus we'll use the 3 components."
   ]
  },
  {
   "cell_type": "code",
   "execution_count": 471,
   "metadata": {},
   "outputs": [
    {
     "data": {
      "image/png": "[encoded data removed]",
      "text/plain": [
       "<Figure size 864x648 with 1 Axes>"
      ]
     },
     "metadata": {},
     "output_type": "display_data"
    }
   ],
   "source": [
    "# 6 components produces a good representation of the distribution.\n",
    "gmm = GaussianMixture(n_components=3,covariance_type='full')\n",
    "gmm = gmm.fit(X = np.expand_dims(X,1))\n",
    "\n",
    "# Evaluate GMM\n",
    "gmm_x = np.linspace(0,80000,1000)\n",
    "gmm_y = np.exp(gmm.score_samples(gmm_x.reshape(-1,1)))\n",
    "\n",
    "f, ax = plt.subplots(figsize=(12,9))\n",
    "ax.hist(X, bins=100, density=True)\n",
    "ax.plot(gmm_x, gmm_y, color=\"crimson\", lw=2.5, label=\"GMM\");"
   ]
  },
  {
   "cell_type": "code",
   "execution_count": 478,
   "metadata": {},
   "outputs": [],
   "source": [
    "# Predict the classes.\n",
    "classes = gmm.predict(X.values.reshape(-1,1))\n",
    "wf_indivs.loc[wf_indivs['worktrav'].isin(['Walk','Cycle','Car','Public']),'trav_class'] = classes"
   ]
  },
  {
   "cell_type": "code",
   "execution_count": 487,
   "metadata": {},
   "outputs": [
    {
     "data": {
      "text/html": [
       "<div>\n",
       "<style>\n",
       "    .dataframe thead tr:only-child th {\n",
       "        text-align: right;\n",
       "    }\n",
       "\n",
       "    .dataframe thead th {\n",
       "        text-align: left;\n",
       "    }\n",
       "\n",
       "    .dataframe tbody tr th {\n",
       "        vertical-align: top;\n",
       "    }\n",
       "</style>\n",
       "<table border=\"1\" class=\"dataframe\">\n",
       "  <thead>\n",
       "    <tr style=\"text-align: right;\">\n",
       "      <th></th>\n",
       "      <th>count</th>\n",
       "      <th>mean</th>\n",
       "      <th>std</th>\n",
       "      <th>min</th>\n",
       "      <th>25%</th>\n",
       "      <th>50%</th>\n",
       "      <th>75%</th>\n",
       "      <th>max</th>\n",
       "    </tr>\n",
       "    <tr>\n",
       "      <th>trav_class</th>\n",
       "      <th></th>\n",
       "      <th></th>\n",
       "      <th></th>\n",
       "      <th></th>\n",
       "      <th></th>\n",
       "      <th></th>\n",
       "      <th></th>\n",
       "      <th></th>\n",
       "    </tr>\n",
       "  </thead>\n",
       "  <tbody>\n",
       "    <tr>\n",
       "      <th>0.0</th>\n",
       "      <td>33831.0</td>\n",
       "      <td>2587.766369</td>\n",
       "      <td>1302.948578</td>\n",
       "      <td>0.187425</td>\n",
       "      <td>1496.155250</td>\n",
       "      <td>2572.721875</td>\n",
       "      <td>3680.919971</td>\n",
       "      <td>4943.228829</td>\n",
       "    </tr>\n",
       "    <tr>\n",
       "      <th>1.0</th>\n",
       "      <td>71462.0</td>\n",
       "      <td>10536.124818</td>\n",
       "      <td>3438.684305</td>\n",
       "      <td>4943.547564</td>\n",
       "      <td>7845.520894</td>\n",
       "      <td>10225.525514</td>\n",
       "      <td>12655.341026</td>\n",
       "      <td>20058.956038</td>\n",
       "    </tr>\n",
       "    <tr>\n",
       "      <th>2.0</th>\n",
       "      <td>5873.0</td>\n",
       "      <td>31095.690065</td>\n",
       "      <td>11752.962289</td>\n",
       "      <td>20060.147511</td>\n",
       "      <td>22964.016597</td>\n",
       "      <td>27042.423958</td>\n",
       "      <td>34549.295918</td>\n",
       "      <td>92989.821693</td>\n",
       "    </tr>\n",
       "  </tbody>\n",
       "</table>\n",
       "</div>"
      ],
      "text/plain": [
       "              count          mean           std           min           25%  \\\n",
       "trav_class                                                                    \n",
       "0.0         33831.0   2587.766369   1302.948578      0.187425   1496.155250   \n",
       "1.0         71462.0  10536.124818   3438.684305   4943.547564   7845.520894   \n",
       "2.0          5873.0  31095.690065  11752.962289  20060.147511  22964.016597   \n",
       "\n",
       "                     50%           75%           max  \n",
       "trav_class                                            \n",
       "0.0          2572.721875   3680.919971   4943.228829  \n",
       "1.0         10225.525514  12655.341026  20058.956038  \n",
       "2.0         27042.423958  34549.295918  92989.821693  "
      ]
     },
     "execution_count": 487,
     "metadata": {},
     "output_type": "execute_result"
    }
   ],
   "source": [
    "wf_indivs.loc[wf_indivs['worktrav'].isin(['Walk','Cycle','Car','Public'])].groupby('trav_class')['sim_dist'].describe()\n",
    "# class 0 is 'local' - trips of 0-4,943m (mean: 2,588m) - c. 30.4%\n",
    "# class 1 is 'city' - trips of 4,944-20059m (mean: 10,536m) - c. 64.3%\n",
    "# class 2 is 'beyond' - trips greater than 20,060m (mean: 31,096m) - c. 5.3%"
   ]
  },
  {
   "cell_type": "code",
   "execution_count": 490,
   "metadata": {},
   "outputs": [
    {
     "data": {
      "text/html": [
       "<div>\n",
       "<style>\n",
       "    .dataframe thead tr:only-child th {\n",
       "        text-align: right;\n",
       "    }\n",
       "\n",
       "    .dataframe thead th {\n",
       "        text-align: left;\n",
       "    }\n",
       "\n",
       "    .dataframe tbody tr th {\n",
       "        vertical-align: top;\n",
       "    }\n",
       "</style>\n",
       "<table border=\"1\" class=\"dataframe\">\n",
       "  <thead>\n",
       "    <tr style=\"text-align: right;\">\n",
       "      <th></th>\n",
       "      <th>index</th>\n",
       "      <th>pidp</th>\n",
       "      <th>sex</th>\n",
       "      <th>age_6cat</th>\n",
       "      <th>eth_5cat</th>\n",
       "      <th>employ</th>\n",
       "      <th>worktrav</th>\n",
       "      <th>caruse</th>\n",
       "      <th>cycleuse</th>\n",
       "      <th>f_workdis</th>\n",
       "      <th>ward</th>\n",
       "      <th>work_dis_class</th>\n",
       "      <th>workdis</th>\n",
       "      <th>sim_dist</th>\n",
       "      <th>trav_class</th>\n",
       "      <th>trav_classnm</th>\n",
       "    </tr>\n",
       "  </thead>\n",
       "  <tbody>\n",
       "    <tr>\n",
       "      <th>0</th>\n",
       "      <td>0</td>\n",
       "      <td>22445</td>\n",
       "      <td>f</td>\n",
       "      <td>25-34</td>\n",
       "      <td>White</td>\n",
       "      <td>Employed</td>\n",
       "      <td>Public</td>\n",
       "      <td>Car</td>\n",
       "      <td>Bike</td>\n",
       "      <td>5</td>\n",
       "      <td>E05000590</td>\n",
       "      <td>1.0</td>\n",
       "      <td>5</td>\n",
       "      <td>3492.721765</td>\n",
       "      <td>0.0</td>\n",
       "      <td>local</td>\n",
       "    </tr>\n",
       "    <tr>\n",
       "      <th>1</th>\n",
       "      <td>0</td>\n",
       "      <td>22445</td>\n",
       "      <td>f</td>\n",
       "      <td>25-34</td>\n",
       "      <td>White</td>\n",
       "      <td>Employed</td>\n",
       "      <td>Public</td>\n",
       "      <td>Car</td>\n",
       "      <td>Bike</td>\n",
       "      <td>5</td>\n",
       "      <td>E05000590</td>\n",
       "      <td>1.0</td>\n",
       "      <td>5</td>\n",
       "      <td>12498.866719</td>\n",
       "      <td>1.0</td>\n",
       "      <td>city</td>\n",
       "    </tr>\n",
       "    <tr>\n",
       "      <th>2</th>\n",
       "      <td>0</td>\n",
       "      <td>22445</td>\n",
       "      <td>f</td>\n",
       "      <td>25-34</td>\n",
       "      <td>White</td>\n",
       "      <td>Employed</td>\n",
       "      <td>Public</td>\n",
       "      <td>Car</td>\n",
       "      <td>Bike</td>\n",
       "      <td>5</td>\n",
       "      <td>E05000590</td>\n",
       "      <td>1.0</td>\n",
       "      <td>5</td>\n",
       "      <td>12411.032400</td>\n",
       "      <td>1.0</td>\n",
       "      <td>city</td>\n",
       "    </tr>\n",
       "    <tr>\n",
       "      <th>3</th>\n",
       "      <td>1</td>\n",
       "      <td>29925</td>\n",
       "      <td>f</td>\n",
       "      <td>35-44</td>\n",
       "      <td>White</td>\n",
       "      <td>SelfEmployed</td>\n",
       "      <td>Car</td>\n",
       "      <td>Car</td>\n",
       "      <td>NoBike</td>\n",
       "      <td>3</td>\n",
       "      <td>E05000590</td>\n",
       "      <td>1.0</td>\n",
       "      <td>3</td>\n",
       "      <td>13794.974969</td>\n",
       "      <td>1.0</td>\n",
       "      <td>city</td>\n",
       "    </tr>\n",
       "    <tr>\n",
       "      <th>4</th>\n",
       "      <td>1</td>\n",
       "      <td>29925</td>\n",
       "      <td>f</td>\n",
       "      <td>35-44</td>\n",
       "      <td>White</td>\n",
       "      <td>SelfEmployed</td>\n",
       "      <td>Car</td>\n",
       "      <td>Car</td>\n",
       "      <td>NoBike</td>\n",
       "      <td>3</td>\n",
       "      <td>E05000590</td>\n",
       "      <td>1.0</td>\n",
       "      <td>3</td>\n",
       "      <td>17946.035446</td>\n",
       "      <td>1.0</td>\n",
       "      <td>city</td>\n",
       "    </tr>\n",
       "  </tbody>\n",
       "</table>\n",
       "</div>"
      ],
      "text/plain": [
       "   index   pidp sex age_6cat eth_5cat        employ worktrav caruse cycleuse  \\\n",
       "0      0  22445   f    25-34    White      Employed   Public    Car     Bike   \n",
       "1      0  22445   f    25-34    White      Employed   Public    Car     Bike   \n",
       "2      0  22445   f    25-34    White      Employed   Public    Car     Bike   \n",
       "3      1  29925   f    35-44    White  SelfEmployed      Car    Car   NoBike   \n",
       "4      1  29925   f    35-44    White  SelfEmployed      Car    Car   NoBike   \n",
       "\n",
       "   f_workdis       ward  work_dis_class workdis      sim_dist  trav_class  \\\n",
       "0          5  E05000590             1.0       5   3492.721765         0.0   \n",
       "1          5  E05000590             1.0       5  12498.866719         1.0   \n",
       "2          5  E05000590             1.0       5  12411.032400         1.0   \n",
       "3          3  E05000590             1.0       3  13794.974969         1.0   \n",
       "4          3  E05000590             1.0       3  17946.035446         1.0   \n",
       "\n",
       "  trav_classnm  \n",
       "0        local  \n",
       "1         city  \n",
       "2         city  \n",
       "3         city  \n",
       "4         city  "
      ]
     },
     "execution_count": 490,
     "metadata": {},
     "output_type": "execute_result"
    }
   ],
   "source": [
    "wf_indivs.loc[wf_indivs['worktrav'].isin(['Walk','Cycle','Car','Public']),'trav_classnm'] = wf_indivs.loc[wf_indivs['worktrav'].isin(['Walk','Cycle','Car','Public']),'trav_class'].apply(lambda x: 'local' if x==0 else ('city' if x==1 else 'beyond'))\n",
    "wf_indivs.head()"
   ]
  },
  {
   "cell_type": "code",
   "execution_count": 494,
   "metadata": {},
   "outputs": [
    {
     "data": {
      "text/plain": [
       "NaN       79812\n",
       "city      71462\n",
       "local     33831\n",
       "beyond     5873\n",
       "Name: trav_classnm, dtype: int64"
      ]
     },
     "execution_count": 494,
     "metadata": {},
     "output_type": "execute_result"
    }
   ],
   "source": [
    "wf_indivs['trav_classnm'].value_counts(dropna=False)"
   ]
  },
  {
   "cell_type": "markdown",
   "metadata": {},
   "source": [
    "# Explore the commute classification"
   ]
  },
  {
   "cell_type": "code",
   "execution_count": 511,
   "metadata": {},
   "outputs": [
    {
     "data": {
      "text/html": [
       "<div>\n",
       "<style>\n",
       "    .dataframe thead tr:only-child th {\n",
       "        text-align: right;\n",
       "    }\n",
       "\n",
       "    .dataframe thead th {\n",
       "        text-align: left;\n",
       "    }\n",
       "\n",
       "    .dataframe tbody tr th {\n",
       "        vertical-align: top;\n",
       "    }\n",
       "</style>\n",
       "<table border=\"1\" class=\"dataframe\">\n",
       "  <thead>\n",
       "    <tr style=\"text-align: right;\">\n",
       "      <th></th>\n",
       "      <th>local</th>\n",
       "      <th>city</th>\n",
       "      <th>beyond</th>\n",
       "    </tr>\n",
       "    <tr>\n",
       "      <th>worktrav</th>\n",
       "      <th></th>\n",
       "      <th></th>\n",
       "      <th></th>\n",
       "    </tr>\n",
       "  </thead>\n",
       "  <tbody>\n",
       "    <tr>\n",
       "      <th>Car</th>\n",
       "      <td>0.404503</td>\n",
       "      <td>0.508302</td>\n",
       "      <td>0.087196</td>\n",
       "    </tr>\n",
       "    <tr>\n",
       "      <th>Cycle</th>\n",
       "      <td>0.362766</td>\n",
       "      <td>0.623341</td>\n",
       "      <td>0.013893</td>\n",
       "    </tr>\n",
       "    <tr>\n",
       "      <th>Public</th>\n",
       "      <td>0.166284</td>\n",
       "      <td>0.792273</td>\n",
       "      <td>0.041442</td>\n",
       "    </tr>\n",
       "    <tr>\n",
       "      <th>Walk</th>\n",
       "      <td>0.976408</td>\n",
       "      <td>0.023592</td>\n",
       "      <td>0.000000</td>\n",
       "    </tr>\n",
       "  </tbody>\n",
       "</table>\n",
       "</div>"
      ],
      "text/plain": [
       "             local      city    beyond\n",
       "worktrav                              \n",
       "Car       0.404503  0.508302  0.087196\n",
       "Cycle     0.362766  0.623341  0.013893\n",
       "Public    0.166284  0.792273  0.041442\n",
       "Walk      0.976408  0.023592  0.000000"
      ]
     },
     "execution_count": 511,
     "metadata": {},
     "output_type": "execute_result"
    }
   ],
   "source": [
    "ct = pd.crosstab(wf_indivs['worktrav'],wf_indivs['trav_class'],normalize='index')\n",
    "ct.columns = ['local','city','beyond']\n",
    "ct\n",
    "# Looks reasonable. 98% of walks are local. 40% of car journeys are local trips, but only 16% of public transport."
   ]
  },
  {
   "cell_type": "code",
   "execution_count": 515,
   "metadata": {},
   "outputs": [
    {
     "data": {
      "text/html": [
       "<div>\n",
       "<style>\n",
       "    .dataframe thead tr:only-child th {\n",
       "        text-align: right;\n",
       "    }\n",
       "\n",
       "    .dataframe thead th {\n",
       "        text-align: left;\n",
       "    }\n",
       "\n",
       "    .dataframe tbody tr th {\n",
       "        vertical-align: top;\n",
       "    }\n",
       "</style>\n",
       "<table border=\"1\" class=\"dataframe\">\n",
       "  <thead>\n",
       "    <tr style=\"text-align: right;\">\n",
       "      <th></th>\n",
       "      <th>local</th>\n",
       "      <th>city</th>\n",
       "      <th>beyond</th>\n",
       "    </tr>\n",
       "    <tr>\n",
       "      <th>worktrav</th>\n",
       "      <th></th>\n",
       "      <th></th>\n",
       "      <th></th>\n",
       "    </tr>\n",
       "  </thead>\n",
       "  <tbody>\n",
       "    <tr>\n",
       "      <th>Car</th>\n",
       "      <td>2937.645612</td>\n",
       "      <td>9746.444280</td>\n",
       "      <td>30942.871439</td>\n",
       "    </tr>\n",
       "    <tr>\n",
       "      <th>Cycle</th>\n",
       "      <td>2857.662306</td>\n",
       "      <td>9500.335466</td>\n",
       "      <td>23536.585483</td>\n",
       "    </tr>\n",
       "    <tr>\n",
       "      <th>Public</th>\n",
       "      <td>2900.171170</td>\n",
       "      <td>10879.288093</td>\n",
       "      <td>31406.270031</td>\n",
       "    </tr>\n",
       "    <tr>\n",
       "      <th>Walk</th>\n",
       "      <td>1380.339302</td>\n",
       "      <td>6381.483579</td>\n",
       "      <td>NaN</td>\n",
       "    </tr>\n",
       "  </tbody>\n",
       "</table>\n",
       "</div>"
      ],
      "text/plain": [
       "                local          city        beyond\n",
       "worktrav                                         \n",
       "Car       2937.645612   9746.444280  30942.871439\n",
       "Cycle     2857.662306   9500.335466  23536.585483\n",
       "Public    2900.171170  10879.288093  31406.270031\n",
       "Walk      1380.339302   6381.483579           NaN"
      ]
     },
     "execution_count": 515,
     "metadata": {},
     "output_type": "execute_result"
    }
   ],
   "source": [
    "# mean trip length by mode and class\n",
    "ct = pd.crosstab(wf_indivs['worktrav'],wf_indivs['trav_class'],values=wf_indivs['sim_dist'], aggfunc=np.mean)\n",
    "ct.columns = ['local','city','beyond']\n",
    "ct"
   ]
  },
  {
   "cell_type": "code",
   "execution_count": 516,
   "metadata": {},
   "outputs": [
    {
     "data": {
      "text/html": [
       "<div>\n",
       "<style>\n",
       "    .dataframe thead tr:only-child th {\n",
       "        text-align: right;\n",
       "    }\n",
       "\n",
       "    .dataframe thead th {\n",
       "        text-align: left;\n",
       "    }\n",
       "\n",
       "    .dataframe tbody tr th {\n",
       "        vertical-align: top;\n",
       "    }\n",
       "</style>\n",
       "<table border=\"1\" class=\"dataframe\">\n",
       "  <thead>\n",
       "    <tr style=\"text-align: right;\">\n",
       "      <th></th>\n",
       "      <th>local</th>\n",
       "      <th>city</th>\n",
       "      <th>beyond</th>\n",
       "    </tr>\n",
       "    <tr>\n",
       "      <th>worktrav</th>\n",
       "      <th></th>\n",
       "      <th></th>\n",
       "      <th></th>\n",
       "    </tr>\n",
       "  </thead>\n",
       "  <tbody>\n",
       "    <tr>\n",
       "      <th>Car</th>\n",
       "      <td>0.434956</td>\n",
       "      <td>0.258753</td>\n",
       "      <td>0.540099</td>\n",
       "    </tr>\n",
       "    <tr>\n",
       "      <th>Cycle</th>\n",
       "      <td>0.034731</td>\n",
       "      <td>0.028253</td>\n",
       "      <td>0.007662</td>\n",
       "    </tr>\n",
       "    <tr>\n",
       "      <th>Public</th>\n",
       "      <td>0.315007</td>\n",
       "      <td>0.710531</td>\n",
       "      <td>0.452239</td>\n",
       "    </tr>\n",
       "    <tr>\n",
       "      <th>Walk</th>\n",
       "      <td>0.215305</td>\n",
       "      <td>0.002463</td>\n",
       "      <td>0.000000</td>\n",
       "    </tr>\n",
       "  </tbody>\n",
       "</table>\n",
       "</div>"
      ],
      "text/plain": [
       "             local      city    beyond\n",
       "worktrav                              \n",
       "Car       0.434956  0.258753  0.540099\n",
       "Cycle     0.034731  0.028253  0.007662\n",
       "Public    0.315007  0.710531  0.452239\n",
       "Walk      0.215305  0.002463  0.000000"
      ]
     },
     "execution_count": 516,
     "metadata": {},
     "output_type": "execute_result"
    }
   ],
   "source": [
    "ct = pd.crosstab(wf_indivs['worktrav'],wf_indivs['trav_class'],normalize='columns')\n",
    "ct.columns = ['local','city','beyond']\n",
    "ct\n",
    "# 43% of local journeys are by car, 26% of all city journeys are by car."
   ]
  },
  {
   "cell_type": "code",
   "execution_count": 518,
   "metadata": {},
   "outputs": [],
   "source": [
    "# export the new wf_indivs dataset for use later.\n",
    "wf_indivs.to_csv('../data/Synthetic_WF_complete.csv')"
   ]
  }
 ],
 "metadata": {
  "kernelspec": {
   "display_name": "Python 2",
   "language": "python",
   "name": "python2"
  },
  "language_info": {
   "codemirror_mode": {
    "name": "ipython",
    "version": 2
   },
   "file_extension": ".py",
   "mimetype": "text/x-python",
   "name": "python",
   "nbconvert_exporter": "python",
   "pygments_lexer": "ipython2",
   "version": "2.7.13"
  }
 },
 "nbformat": 4,
 "nbformat_minor": 2
}
