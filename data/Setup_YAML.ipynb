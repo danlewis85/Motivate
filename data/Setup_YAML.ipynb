{
 "cells": [
  {
   "cell_type": "code",
   "execution_count": 41,
   "metadata": {
    "collapsed": true
   },
   "outputs": [],
   "source": [
    "import pandas as pd\n",
    "import yaml\n",
    "import numpy as np\n",
    "import random"
   ]
  },
  {
   "cell_type": "markdown",
   "metadata": {},
   "source": [
    "# Agents"
   ]
  },
  {
   "cell_type": "code",
   "execution_count": 2,
   "metadata": {
    "collapsed": true
   },
   "outputs": [],
   "source": [
    "# The yaml file has the following tags:\n",
    "# subculture_id: Subculture A | B | C\n",
    "# neighbourhood_id: string - needs to map onto scenario yaml\n",
    "# commute_length: Categorical: LocalCommute | CityCommute | DistantCommute\n",
    "# commute_length_continuous: float\n",
    "# weather_sensitivity: float\n",
    "# consistency: float\n",
    "# social_connectivity: float\n",
    "# subculture_connectivity: float\n",
    "# neighbourhood_connectivity: float\n",
    "# average_weight: float\n",
    "# habit: [nested]\n",
    "# # Walk: 1.0  | Car: 1.0  | PublicTransport: 1.0  | Cycle: 1.0 \n",
    "# current_mode: Categorical: Walk | Car | PublicTransport | Cycle\n",
    "# last_mode: Categorical: Walk | Car | PublicTransport | Cycle\n",
    "# norm: Categorical: Walk | Car | PublicTransport | Cycle\n",
    "# owns_bike: Boolean\n",
    "# owns_car: Boolean"
   ]
  },
  {
   "cell_type": "code",
   "execution_count": 3,
   "metadata": {
    "collapsed": true
   },
   "outputs": [],
   "source": [
    "# To write the yaml it needs be be structured as a dictionary.\n",
    "# Therefore we need a function that ingests a row of pandas data and returns a dictionary marked up as above.\n",
    "\n",
    "def yaml_dict(row,subculture_id, neighbourhood_id, commute_length, commute_length_continuous, weather_sensitivity,\n",
    "              consistency, social_connectivity, subculture_connectivity, neighbourhood_connectivity, average_weight,\n",
    "              habit, current_mode, last_mode, norm, owns_bike, owns_car):\n",
    "    # row is a pandas dataframe row\n",
    "    # all fields map to a field in the dataframe.\n",
    "    # NB pyyaml doesn't like numpy numerical objects, cast all to base python (float(), int(), bool())!\n",
    "    data = {}\n",
    "    data['subculture_id'] = row[subculture_id]\n",
    "    data['neighbourhood_id'] = row[neighbourhood_id]\n",
    "    data['commute_length'] = row[commute_length]\n",
    "    data['commute_length_continuous'] = float(row[commute_length_continuous])\n",
    "    data['weather_sensitivity'] = float(row[weather_sensitivity])\n",
    "    data['consistency'] = float(row[consistency])\n",
    "    data['social_connectivity'] = float(row[social_connectivity])\n",
    "    data['subculture_connectivity'] = float(row[subculture_connectivity])\n",
    "    data['neighbourhood_connectivity'] = float(row[neighbourhood_connectivity])\n",
    "    data['average_weight'] = float(row[average_weight])\n",
    "    data['habit'] = {row[habit]: 1.0}\n",
    "    data['current_mode'] = row[current_mode]\n",
    "    data['last_mode'] = row[last_mode]\n",
    "    data['norm'] = row[norm]\n",
    "    data['owns_bike'] = bool(row[owns_bike])\n",
    "    data['owns_car'] = bool(row[owns_car])\n",
    "    \n",
    "    return data   "
   ]
  },
  {
   "cell_type": "code",
   "execution_count": 4,
   "metadata": {},
   "outputs": [
    {
     "data": {
      "text/html": [
       "<div>\n",
       "<style>\n",
       "    .dataframe thead tr:only-child th {\n",
       "        text-align: right;\n",
       "    }\n",
       "\n",
       "    .dataframe thead th {\n",
       "        text-align: left;\n",
       "    }\n",
       "\n",
       "    .dataframe tbody tr th {\n",
       "        vertical-align: top;\n",
       "    }\n",
       "</style>\n",
       "<table border=\"1\" class=\"dataframe\">\n",
       "  <thead>\n",
       "    <tr style=\"text-align: right;\">\n",
       "      <th></th>\n",
       "      <th>index</th>\n",
       "      <th>pidp</th>\n",
       "      <th>sex</th>\n",
       "      <th>age_6cat</th>\n",
       "      <th>eth_5cat</th>\n",
       "      <th>employ</th>\n",
       "      <th>worktrav</th>\n",
       "      <th>caruse</th>\n",
       "      <th>cycleuse</th>\n",
       "      <th>f_workdis</th>\n",
       "      <th>ward</th>\n",
       "      <th>work_dis_class</th>\n",
       "      <th>workdis</th>\n",
       "      <th>sim_dist</th>\n",
       "      <th>trav_class</th>\n",
       "      <th>trav_classnm</th>\n",
       "    </tr>\n",
       "  </thead>\n",
       "  <tbody>\n",
       "    <tr>\n",
       "      <th>0</th>\n",
       "      <td>0</td>\n",
       "      <td>22445</td>\n",
       "      <td>f</td>\n",
       "      <td>25-34</td>\n",
       "      <td>White</td>\n",
       "      <td>Employed</td>\n",
       "      <td>Public</td>\n",
       "      <td>Car</td>\n",
       "      <td>Bike</td>\n",
       "      <td>5</td>\n",
       "      <td>E05000590</td>\n",
       "      <td>1.0</td>\n",
       "      <td>5</td>\n",
       "      <td>3492.721765</td>\n",
       "      <td>0.0</td>\n",
       "      <td>local</td>\n",
       "    </tr>\n",
       "    <tr>\n",
       "      <th>1</th>\n",
       "      <td>0</td>\n",
       "      <td>22445</td>\n",
       "      <td>f</td>\n",
       "      <td>25-34</td>\n",
       "      <td>White</td>\n",
       "      <td>Employed</td>\n",
       "      <td>Public</td>\n",
       "      <td>Car</td>\n",
       "      <td>Bike</td>\n",
       "      <td>5</td>\n",
       "      <td>E05000590</td>\n",
       "      <td>1.0</td>\n",
       "      <td>5</td>\n",
       "      <td>12498.866719</td>\n",
       "      <td>1.0</td>\n",
       "      <td>city</td>\n",
       "    </tr>\n",
       "    <tr>\n",
       "      <th>2</th>\n",
       "      <td>0</td>\n",
       "      <td>22445</td>\n",
       "      <td>f</td>\n",
       "      <td>25-34</td>\n",
       "      <td>White</td>\n",
       "      <td>Employed</td>\n",
       "      <td>Public</td>\n",
       "      <td>Car</td>\n",
       "      <td>Bike</td>\n",
       "      <td>5</td>\n",
       "      <td>E05000590</td>\n",
       "      <td>1.0</td>\n",
       "      <td>5</td>\n",
       "      <td>12411.032400</td>\n",
       "      <td>1.0</td>\n",
       "      <td>city</td>\n",
       "    </tr>\n",
       "    <tr>\n",
       "      <th>3</th>\n",
       "      <td>1</td>\n",
       "      <td>29925</td>\n",
       "      <td>f</td>\n",
       "      <td>35-44</td>\n",
       "      <td>White</td>\n",
       "      <td>SelfEmployed</td>\n",
       "      <td>Car</td>\n",
       "      <td>Car</td>\n",
       "      <td>NoBike</td>\n",
       "      <td>3</td>\n",
       "      <td>E05000590</td>\n",
       "      <td>1.0</td>\n",
       "      <td>3</td>\n",
       "      <td>13794.974969</td>\n",
       "      <td>1.0</td>\n",
       "      <td>city</td>\n",
       "    </tr>\n",
       "    <tr>\n",
       "      <th>4</th>\n",
       "      <td>1</td>\n",
       "      <td>29925</td>\n",
       "      <td>f</td>\n",
       "      <td>35-44</td>\n",
       "      <td>White</td>\n",
       "      <td>SelfEmployed</td>\n",
       "      <td>Car</td>\n",
       "      <td>Car</td>\n",
       "      <td>NoBike</td>\n",
       "      <td>3</td>\n",
       "      <td>E05000590</td>\n",
       "      <td>1.0</td>\n",
       "      <td>3</td>\n",
       "      <td>17946.035446</td>\n",
       "      <td>1.0</td>\n",
       "      <td>city</td>\n",
       "    </tr>\n",
       "  </tbody>\n",
       "</table>\n",
       "</div>"
      ],
      "text/plain": [
       "   index   pidp sex age_6cat eth_5cat        employ worktrav caruse cycleuse  \\\n",
       "0      0  22445   f    25-34    White      Employed   Public    Car     Bike   \n",
       "1      0  22445   f    25-34    White      Employed   Public    Car     Bike   \n",
       "2      0  22445   f    25-34    White      Employed   Public    Car     Bike   \n",
       "3      1  29925   f    35-44    White  SelfEmployed      Car    Car   NoBike   \n",
       "4      1  29925   f    35-44    White  SelfEmployed      Car    Car   NoBike   \n",
       "\n",
       "   f_workdis       ward  work_dis_class workdis      sim_dist  trav_class  \\\n",
       "0          5  E05000590             1.0       5   3492.721765         0.0   \n",
       "1          5  E05000590             1.0       5  12498.866719         1.0   \n",
       "2          5  E05000590             1.0       5  12411.032400         1.0   \n",
       "3          3  E05000590             1.0       3  13794.974969         1.0   \n",
       "4          3  E05000590             1.0       3  17946.035446         1.0   \n",
       "\n",
       "  trav_classnm  \n",
       "0        local  \n",
       "1         city  \n",
       "2         city  \n",
       "3         city  \n",
       "4         city  "
      ]
     },
     "execution_count": 4,
     "metadata": {},
     "output_type": "execute_result"
    }
   ],
   "source": [
    "# Load agent data\n",
    "agents = pd.read_csv('..\\Data\\Synthetic_WF_complete.csv', index_col=0)\n",
    "agents.head()"
   ]
  },
  {
   "cell_type": "code",
   "execution_count": 5,
   "metadata": {},
   "outputs": [
    {
     "data": {
      "text/plain": [
       "111166"
      ]
     },
     "execution_count": 5,
     "metadata": {},
     "output_type": "execute_result"
    }
   ],
   "source": [
    "# Subset the data so that we just have commuters\n",
    "agents = agents[agents['worktrav'].isin(['Walk','Car','Public','Cycle'])]\n",
    "len(agents)"
   ]
  },
  {
   "cell_type": "code",
   "execution_count": 18,
   "metadata": {
    "collapsed": true
   },
   "outputs": [],
   "source": [
    "# We need to recode some of the variables to match the yaml.\n",
    "\n",
    "agents['mode'] = agents['worktrav'].apply(lambda x: 'PublicTransport' if x == 'Public' else x)\n",
    "agents['commute'] = agents['trav_classnm'].apply(lambda x: 'LocalCommute' if x == 'local' else ('CityCommute' if x == 'city' else 'DistantCommute'))\n",
    "agents['owns_bike'] = agents['cycleuse'].apply(lambda x: True if x == 'Bike' else False)\n",
    "agents['owns_car'] = agents['caruse'].apply(lambda x: True if x == 'Car' else False)"
   ]
  },
  {
   "cell_type": "code",
   "execution_count": 28,
   "metadata": {
    "collapsed": true
   },
   "outputs": [],
   "source": [
    "# We also need to generate some psychological variables.\n",
    "\n",
    "# Subculture - random tertiles\n",
    "sc = np.array(['Subculture A'] * 37055 + ['Subculture B'] * 37055 + ['Subculture C'] * 37056)\n",
    "np.random.shuffle(sc)\n",
    "agents['subculture_id'] = sc\n",
    "\n",
    "# weather sensitivity - random uniform 0-1\n",
    "agents['weather_sensitivity'] = np.random.uniform(size=len(agents))\n",
    "\n",
    "# consistency - constant 1.0\n",
    "agents['consistency'] = np.ones(len(agents))\n",
    "\n",
    "# social connectivity - constant 0.7\n",
    "agents['social_connectivity'] = np.ones(len(agents)) * 0.7\n",
    "\n",
    "# subculture connectivity - constant 0.5\n",
    "agents['subculture_connectivity'] = np.ones(len(agents)) * 0.5\n",
    "\n",
    "# neighbourhood connectivity - constant 0.3\n",
    "agents['neighbourhood_connectivity'] = np.ones(len(agents)) * 0.3\n",
    "\n",
    "# Not sure what this is - constant irrational number\n",
    "agents['average_weight'] = np.ones(len(agents)) * 0.1818181872367859\n"
   ]
  },
  {
   "cell_type": "code",
   "execution_count": 115,
   "metadata": {
    "collapsed": true
   },
   "outputs": [],
   "source": [
    "# transform relevant agent data to yaml appropriate dictionary\n",
    "yaml_data = agents.apply(lambda x: yaml_dict(x, 'subculture_id', 'ward', 'commute', 'sim_dist', 'weather_sensitivity', 'consistency', \n",
    "          'social_connectivity', 'subculture_connectivity', 'neighbourhood_connectivity', 'average_weight',\n",
    "              'mode', 'mode', 'mode', 'mode', 'owns_bike', 'owns_car'),axis=1).tolist()"
   ]
  },
  {
   "cell_type": "code",
   "execution_count": 123,
   "metadata": {
    "collapsed": true
   },
   "outputs": [],
   "source": [
    "# Write the agents data to yaml (takes several minutes for a file of c. 100,000 agents)\n",
    "with open('1.yaml','w') as outfile:\n",
    "    yaml.dump(yaml_data,outfile, default_flow_style=False, explicit_start=True)"
   ]
  },
  {
   "cell_type": "markdown",
   "metadata": {},
   "source": [
    "# Networks"
   ]
  },
  {
   "cell_type": "code",
   "execution_count": 72,
   "metadata": {
    "collapsed": true
   },
   "outputs": [],
   "source": [
    "# Social networks could be specifically generated here.\n",
    "# For now though Motivate can generate a preferential attachment -based network\n",
    "# Just run on the command line with motivate.exe --generate"
   ]
  },
  {
   "cell_type": "markdown",
   "metadata": {},
   "source": [
    "# Parameters"
   ]
  },
  {
   "cell_type": "code",
   "execution_count": 6,
   "metadata": {
    "collapsed": true
   },
   "outputs": [],
   "source": [
    "# create a yaml with the fixed model parameters\n",
    "params = {}\n",
    "\n",
    "params['total_years'] = 5\n",
    "params['number_of_people'] = len(agents)\n",
    "params['number_of_simulations'] = 1\n",
    "params['social_connectivity'] = 0.7\n",
    "params['subculture_connectivity'] = 0.5\n",
    "params['neighbourhood_connectivity'] = 0.3\n",
    "params['number_of_social_network_links'] = 5\n",
    "params['number_of_neighbour_links'] = 10\n",
    "params['days_in_habit_average'] = 10\n",
    "params['distributions'] = []"
   ]
  },
  {
   "cell_type": "code",
   "execution_count": 7,
   "metadata": {
    "collapsed": true
   },
   "outputs": [],
   "source": [
    "# Write the parameters data to yaml\n",
    "with open('parameters.yaml','w') as outfile:\n",
    "    yaml.dump(params,outfile, default_flow_style=False, explicit_start=True)"
   ]
  },
  {
   "cell_type": "markdown",
   "metadata": {},
   "source": [
    "# Scenario"
   ]
  },
  {
   "cell_type": "code",
   "execution_count": 126,
   "metadata": {
    "collapsed": true
   },
   "outputs": [],
   "source": [
    "# The scenario file contains information on:\n",
    "# Model ID\n",
    "# subculture definitions\n",
    "# neighbourhood definitions\n",
    "# number of bikes\n",
    "# number of cars\n",
    "# intervention"
   ]
  },
  {
   "cell_type": "code",
   "execution_count": 178,
   "metadata": {
    "collapsed": true
   },
   "outputs": [],
   "source": [
    "# Set scenario data structure & populate simple keys with values\n",
    "name = 'basic'\n",
    "# Derive number of bikes and cars from agent info.\n",
    "num_bike = int(agents['owns_bike'].sum()) # cast to int for pyyaml.\n",
    "num_car = int(agents['owns_car'].sum())\n",
    "\n",
    "yaml_scenario = {'id': name,'subcultures':[], 'neighbourhoods':[],'number_of_bikes': num_bike,'number_of_cars': num_car,\n",
    "                'intervention': {}}"
   ]
  },
  {
   "cell_type": "code",
   "execution_count": 179,
   "metadata": {
    "collapsed": true
   },
   "outputs": [],
   "source": [
    "# set up subcultures\n",
    "# should map onto subculture names specified in the agents data\n",
    "\n",
    "# Subculture A\n",
    "scA = {'id':'Subculture A','desirability':{'PublicTransport': 0.5,'Walk': 0.7,'Car': 0.8, 'Cycle': 0.9}}\n",
    "yaml_scenario['subcultures'].append(scA)\n",
    "\n",
    "# Subculture B\n",
    "scB = {'id':'Subculture B','desirability':{'PublicTransport': 0.8,'Walk': 0.7,'Car': 0.9, 'Cycle': 0.6}}\n",
    "yaml_scenario['subcultures'].append(scB)\n",
    "\n",
    "# Subculture C\n",
    "scC = {'id':'Subculture C','desirability':{'PublicTransport': 0.5,'Walk': 0.9,'Car': 0.4, 'Cycle': 0.9}}\n",
    "yaml_scenario['subcultures'].append(scC)"
   ]
  },
  {
   "cell_type": "code",
   "execution_count": 180,
   "metadata": {
    "collapsed": true
   },
   "outputs": [],
   "source": [
    "# set up neighborhoods\n",
    "# should map onto the neighbourhood names established in the agents.\n",
    "\n",
    "# Get the required neighbourhoood ids (ward codes)\n",
    "nh = agents['ward'].unique()\n",
    "\n",
    "# We'll setup supportiveness as random draws from a uniform distribution.\n",
    "\n",
    "# Capacities for walking and cycling are assumed to be effectively unlimited (here set to 150000)\n",
    "# Car and Public Transport capacities\n",
    "car = [3725, 2084, 6605, 2375, 1079, 1095, 2460, 1897, 5703, 2503, 4848, 3700, 1229, 6110, 6890, 709, 1828, 3203, 4050, 6243]\n",
    "pt = [5548, 87, 6856, 5166, 1474, 2078, 5765, 3502, 458, 7467, 2810, 3065, 5054, 181, 3565, 4880, 5221, 6907, 3957, 3026]\n",
    "\n",
    "nhoods = []\n",
    "for nix, n in enumerate(nh):\n",
    "    temp = {}\n",
    "    temp['id'] = n\n",
    "    temp['supportiveness'] = {}\n",
    "    temp['capacity'] = {}\n",
    "    \n",
    "    temp['supportiveness']['Car'] = float(np.random.uniform())\n",
    "    temp['supportiveness']['Cycle'] = float(np.random.uniform())\n",
    "    temp['supportiveness']['Walk'] = float(np.random.uniform())\n",
    "    temp['supportiveness']['PublicTransport'] = float(np.random.uniform())\n",
    "    \n",
    "    temp['capacity']['Car'] = car[nix]\n",
    "    temp['capacity']['Cycle'] = 150000\n",
    "    temp['capacity']['Walk'] = 150000\n",
    "    temp['capacity']['PublicTransport'] = pt[nix]\n",
    "    \n",
    "    nhoods.append(temp)\n",
    "\n",
    "yaml_scenario['neighbourhoods'] = nhoods"
   ]
  },
  {
   "cell_type": "code",
   "execution_count": 181,
   "metadata": {
    "collapsed": true
   },
   "outputs": [],
   "source": [
    "# Set up intervention\n",
    "\n",
    "# For basic scenario we have no interventions\n",
    "intervention = {'day': 0,'subculture_changes':[],'change_in_number_of_bikes':0,'change_in_number_of_cars':0,\n",
    "               'neighbourhood_changes':[],'subculture_changes':[]}\n",
    "\n",
    "yaml_scenario['intervention'] = intervention\n",
    "\n",
    "# e.g. neighbourhood changes\n",
    "# [{'id': '9', 'increase_in_capacity': {'Car': -5000}}, {'id': '4', 'increase_in_capacity': {'Car': -1000}}],"
   ]
  },
  {
   "cell_type": "code",
   "execution_count": 186,
   "metadata": {
    "collapsed": true
   },
   "outputs": [],
   "source": [
    "# save intervention to yaml\n",
    "with open('scenario.yaml','w') as outfile:\n",
    "    yaml.dump(yaml_scenario,outfile, default_flow_style=False, explicit_start=True)"
   ]
  }
 ],
 "metadata": {
  "kernelspec": {
   "display_name": "Python 2",
   "language": "python",
   "name": "python2"
  },
  "language_info": {
   "codemirror_mode": {
    "name": "ipython",
    "version": 2
   },
   "file_extension": ".py",
   "mimetype": "text/x-python",
   "name": "python",
   "nbconvert_exporter": "python",
   "pygments_lexer": "ipython2",
   "version": "2.7.13"
  }
 },
 "nbformat": 4,
 "nbformat_minor": 2
}
